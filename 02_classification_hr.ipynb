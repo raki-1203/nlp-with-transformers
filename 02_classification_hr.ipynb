{
 "cells": [
  {
   "cell_type": "markdown",
   "id": "3fed765c-5c3c-44e7-a3a7-a4c474f7d531",
   "metadata": {},
   "source": [
    "## 2.1 데이터셋"
   ]
  },
  {
   "cell_type": "markdown",
   "id": "f361678b-286c-49ed-a0b9-e8ec83d97a80",
   "metadata": {},
   "source": [
    "### 2.1.1 허깅페이스 데이터셋 처음 사용하기"
   ]
  },
  {
   "cell_type": "code",
   "execution_count": 1,
   "id": "ae1d27d5-e06d-4cd0-8c06-4bfd7d20d07f",
   "metadata": {},
   "outputs": [],
   "source": [
    "from datasets import list_datasets"
   ]
  },
  {
   "cell_type": "code",
   "execution_count": 2,
   "id": "16deaa34-54ab-400d-b05d-20ab9dc46c14",
   "metadata": {},
   "outputs": [
    {
     "name": "stdout",
     "output_type": "stream",
     "text": [
      "현재 허브에는 17970개의 데이터셋이 있습니다.\n",
      "처음 10개 데이터셋: ['acronym_identification', 'ade_corpus_v2', 'adversarial_qa', 'aeslc', 'afrikaans_ner_corpus', 'ag_news', 'ai2_arc', 'air_dialogue', 'ajgt_twitter_ar', 'allegro_reviews']\n"
     ]
    }
   ],
   "source": [
    "all_datasets = list_datasets()\n",
    "print(f'현재 허브에는 {len(all_datasets)}개의 데이터셋이 있습니다.')\n",
    "print(f'처음 10개 데이터셋: {all_datasets[:10]}')"
   ]
  },
  {
   "cell_type": "code",
   "execution_count": 3,
   "id": "b5b7538c-940a-481a-93c7-b68f3a6b8d3e",
   "metadata": {},
   "outputs": [],
   "source": [
    "from datasets import load_dataset"
   ]
  },
  {
   "cell_type": "code",
   "execution_count": 4,
   "id": "7471c34b-1add-4136-b2ec-57ee1457d167",
   "metadata": {},
   "outputs": [
    {
     "name": "stderr",
     "output_type": "stream",
     "text": [
      "Using custom data configuration SetFit___emotion-89147fdf376d67e2\n",
      "Reusing dataset json (/home/heerak/.cache/huggingface/datasets/json/SetFit___emotion-89147fdf376d67e2/0.0.0/c2d554c3377ea79c7664b93dc65d0803b45e3279000f993c7bfd18937fd7f426)\n"
     ]
    },
    {
     "data": {
      "application/vnd.jupyter.widget-view+json": {
       "model_id": "037b1e30f02e4b87bdc1b4770e5eae7e",
       "version_major": 2,
       "version_minor": 0
      },
      "text/plain": [
       "  0%|          | 0/3 [00:00<?, ?it/s]"
      ]
     },
     "metadata": {},
     "output_type": "display_data"
    }
   ],
   "source": [
    "emotions = load_dataset('SetFit/emotion')  # emotion 으로 불러올 시 에러남"
   ]
  },
  {
   "cell_type": "code",
   "execution_count": 5,
   "id": "e7fc2d8b-dbf2-44aa-ba43-c36eb36ab695",
   "metadata": {},
   "outputs": [],
   "source": [
    "# SetFit/emotion 데이터셋의 경우 수동으로 ClassLabel 객체를 만들어 label에 할당합니다.\n",
    "from datasets import ClassLabel"
   ]
  },
  {
   "cell_type": "code",
   "execution_count": 6,
   "id": "31f7fce4-d81d-45ae-a7b3-04bfebac5f8b",
   "metadata": {},
   "outputs": [],
   "source": [
    "emotions['train'].features['label'] = ClassLabel(\n",
    "    num_classes=6,\n",
    "    names=['sadness', 'joy', 'love', 'anger', 'fear', 'surprise'])"
   ]
  },
  {
   "cell_type": "code",
   "execution_count": 7,
   "id": "520e2843-01b6-4f61-8505-ba0d905f6afd",
   "metadata": {},
   "outputs": [
    {
     "data": {
      "text/plain": [
       "DatasetDict({\n",
       "    train: Dataset({\n",
       "        features: ['text', 'label', 'label_text'],\n",
       "        num_rows: 16000\n",
       "    })\n",
       "    test: Dataset({\n",
       "        features: ['text', 'label', 'label_text'],\n",
       "        num_rows: 2000\n",
       "    })\n",
       "    validation: Dataset({\n",
       "        features: ['text', 'label', 'label_text'],\n",
       "        num_rows: 2000\n",
       "    })\n",
       "})"
      ]
     },
     "execution_count": 7,
     "metadata": {},
     "output_type": "execute_result"
    }
   ],
   "source": [
    "emotions"
   ]
  },
  {
   "cell_type": "code",
   "execution_count": 8,
   "id": "70e87517-6e83-49f4-acad-9adebaded4a6",
   "metadata": {},
   "outputs": [
    {
     "data": {
      "text/plain": [
       "Dataset({\n",
       "    features: ['text', 'label', 'label_text'],\n",
       "    num_rows: 16000\n",
       "})"
      ]
     },
     "execution_count": 8,
     "metadata": {},
     "output_type": "execute_result"
    }
   ],
   "source": [
    "train_ds = emotions['train']\n",
    "train_ds"
   ]
  },
  {
   "cell_type": "code",
   "execution_count": 9,
   "id": "e412829b-8925-464e-92dd-7e62347e737e",
   "metadata": {},
   "outputs": [
    {
     "data": {
      "text/plain": [
       "16000"
      ]
     },
     "execution_count": 9,
     "metadata": {},
     "output_type": "execute_result"
    }
   ],
   "source": [
    "len(train_ds)"
   ]
  },
  {
   "cell_type": "code",
   "execution_count": 10,
   "id": "046135ef-23fa-499e-882d-647d9971183f",
   "metadata": {},
   "outputs": [
    {
     "data": {
      "text/plain": [
       "{'text': 'i didnt feel humiliated', 'label': 0, 'label_text': 'sadness'}"
      ]
     },
     "execution_count": 10,
     "metadata": {},
     "output_type": "execute_result"
    }
   ],
   "source": [
    "train_ds[0]"
   ]
  },
  {
   "cell_type": "code",
   "execution_count": 11,
   "id": "f1a853f5-391d-46fb-a688-77f815a2d74e",
   "metadata": {},
   "outputs": [
    {
     "data": {
      "text/plain": [
       "['text', 'label', 'label_text']"
      ]
     },
     "execution_count": 11,
     "metadata": {},
     "output_type": "execute_result"
    }
   ],
   "source": [
    "train_ds.column_names"
   ]
  },
  {
   "cell_type": "code",
   "execution_count": 12,
   "id": "afa2eecb-1428-4bca-889c-09d65d3b7776",
   "metadata": {},
   "outputs": [
    {
     "name": "stdout",
     "output_type": "stream",
     "text": [
      "{'text': Value(dtype='string', id=None), 'label': ClassLabel(num_classes=6, names=['sadness', 'joy', 'love', 'anger', 'fear', 'surprise'], names_file=None, id=None), 'label_text': Value(dtype='string', id=None)}\n"
     ]
    }
   ],
   "source": [
    "print(train_ds.features)"
   ]
  },
  {
   "cell_type": "code",
   "execution_count": 13,
   "id": "1dcaf41e-0e6d-4b3f-b5b7-b70a2b3e30a3",
   "metadata": {},
   "outputs": [
    {
     "name": "stdout",
     "output_type": "stream",
     "text": [
      "{'text': ['i didnt feel humiliated', 'i can go from feeling so hopeless to so damned hopeful just from being around someone who cares and is awake', 'im grabbing a minute to post i feel greedy wrong', 'i am ever feeling nostalgic about the fireplace i will know that it is still on the property', 'i am feeling grouchy'], 'label': [0, 0, 3, 2, 3], 'label_text': ['sadness', 'sadness', 'anger', 'love', 'anger']}\n"
     ]
    }
   ],
   "source": [
    "print(train_ds[:5])"
   ]
  },
  {
   "cell_type": "code",
   "execution_count": 14,
   "id": "4e8e004e-4b65-4f4f-830d-0416968324b1",
   "metadata": {},
   "outputs": [
    {
     "name": "stdout",
     "output_type": "stream",
     "text": [
      "['i didnt feel humiliated', 'i can go from feeling so hopeless to so damned hopeful just from being around someone who cares and is awake', 'im grabbing a minute to post i feel greedy wrong', 'i am ever feeling nostalgic about the fireplace i will know that it is still on the property', 'i am feeling grouchy']\n"
     ]
    }
   ],
   "source": [
    "print(train_ds['text'][:5])"
   ]
  },
  {
   "cell_type": "markdown",
   "id": "b0295b89-c561-4496-8f59-60d40aeac387",
   "metadata": {},
   "source": [
    "#### 허브에 필요한 데이터셋이 없다면 어떻게 하나요?\n",
    "\n",
    "```\n",
    "# dataset 다운로드\n",
    "dataset_url = 'https://www.dropbox.com/s/1pzkadrvffbqw6o/train.txt'\n",
    "!wget {dataset_url}\n",
    "\n",
    "# train.txt 파일의 첫 행 출력\n",
    "!head -n 1 train.txt\n",
    "\n",
    "# csv 스크립트와 data_files 매개변수를 사용해 로컬에 있는 train.txt 파일을 로드할 수 있음\n",
    "emotions_local = load_dataset('csv', data_files='train.txt', sep=';', names=['text', 'label'])\n",
    "\n",
    "# data_files 매개변수에 URL 자체를 지정하는 방법도 있음\n",
    "dataset_url = 'https://www.dropbox.com/s/1pzkadrvffbqw6o/train.txt?dl=1'\n",
    "emotions_remote = load_dataset('csv', data_files=dataset_url, sep=';', names=['text', 'label'])\n",
    "```"
   ]
  },
  {
   "cell_type": "markdown",
   "id": "31d4c4c4-d94f-4e13-b9da-975fd0f4ed17",
   "metadata": {},
   "source": [
    "### 2.1.2 데이터셋에서 데이터프레임으로"
   ]
  },
  {
   "cell_type": "code",
   "execution_count": 15,
   "id": "ddf016b2-0f5a-4f08-84fe-063477961d45",
   "metadata": {},
   "outputs": [],
   "source": [
    "import pandas as pd"
   ]
  },
  {
   "cell_type": "code",
   "execution_count": 16,
   "id": "9ef6b366-2e60-4992-97e5-631a1426c145",
   "metadata": {},
   "outputs": [
    {
     "data": {
      "text/html": [
       "<div>\n",
       "<style scoped>\n",
       "    .dataframe tbody tr th:only-of-type {\n",
       "        vertical-align: middle;\n",
       "    }\n",
       "\n",
       "    .dataframe tbody tr th {\n",
       "        vertical-align: top;\n",
       "    }\n",
       "\n",
       "    .dataframe thead th {\n",
       "        text-align: right;\n",
       "    }\n",
       "</style>\n",
       "<table border=\"1\" class=\"dataframe\">\n",
       "  <thead>\n",
       "    <tr style=\"text-align: right;\">\n",
       "      <th></th>\n",
       "      <th>text</th>\n",
       "      <th>label</th>\n",
       "      <th>label_text</th>\n",
       "    </tr>\n",
       "  </thead>\n",
       "  <tbody>\n",
       "    <tr>\n",
       "      <th>0</th>\n",
       "      <td>i didnt feel humiliated</td>\n",
       "      <td>0</td>\n",
       "      <td>sadness</td>\n",
       "    </tr>\n",
       "    <tr>\n",
       "      <th>1</th>\n",
       "      <td>i can go from feeling so hopeless to so damned...</td>\n",
       "      <td>0</td>\n",
       "      <td>sadness</td>\n",
       "    </tr>\n",
       "    <tr>\n",
       "      <th>2</th>\n",
       "      <td>im grabbing a minute to post i feel greedy wrong</td>\n",
       "      <td>3</td>\n",
       "      <td>anger</td>\n",
       "    </tr>\n",
       "    <tr>\n",
       "      <th>3</th>\n",
       "      <td>i am ever feeling nostalgic about the fireplac...</td>\n",
       "      <td>2</td>\n",
       "      <td>love</td>\n",
       "    </tr>\n",
       "    <tr>\n",
       "      <th>4</th>\n",
       "      <td>i am feeling grouchy</td>\n",
       "      <td>3</td>\n",
       "      <td>anger</td>\n",
       "    </tr>\n",
       "  </tbody>\n",
       "</table>\n",
       "</div>"
      ],
      "text/plain": [
       "                                                text  label label_text\n",
       "0                            i didnt feel humiliated      0    sadness\n",
       "1  i can go from feeling so hopeless to so damned...      0    sadness\n",
       "2   im grabbing a minute to post i feel greedy wrong      3      anger\n",
       "3  i am ever feeling nostalgic about the fireplac...      2       love\n",
       "4                               i am feeling grouchy      3      anger"
      ]
     },
     "execution_count": 16,
     "metadata": {},
     "output_type": "execute_result"
    }
   ],
   "source": [
    "emotions.set_format(type='pandas')\n",
    "df = emotions['train'][:]\n",
    "df.head()"
   ]
  },
  {
   "cell_type": "code",
   "execution_count": 17,
   "id": "00bcef6a-4016-4394-97bd-9608dc84c072",
   "metadata": {},
   "outputs": [],
   "source": [
    "# ClassLabel 클래스 객체는 정수 레이블을 클래스 이름으로 바꿔주는 int2str() 메서드와 \n",
    "# 그 반대 작업을 수행하는 str2int() 메서드가 있음\n",
    "def label_int2str(row):\n",
    "    return emotions['train'].features['label'].int2str(row)"
   ]
  },
  {
   "cell_type": "code",
   "execution_count": 18,
   "id": "8f0b5341-b0cb-44cb-b649-e87bb35643b3",
   "metadata": {},
   "outputs": [
    {
     "data": {
      "text/html": [
       "<div>\n",
       "<style scoped>\n",
       "    .dataframe tbody tr th:only-of-type {\n",
       "        vertical-align: middle;\n",
       "    }\n",
       "\n",
       "    .dataframe tbody tr th {\n",
       "        vertical-align: top;\n",
       "    }\n",
       "\n",
       "    .dataframe thead th {\n",
       "        text-align: right;\n",
       "    }\n",
       "</style>\n",
       "<table border=\"1\" class=\"dataframe\">\n",
       "  <thead>\n",
       "    <tr style=\"text-align: right;\">\n",
       "      <th></th>\n",
       "      <th>text</th>\n",
       "      <th>label</th>\n",
       "      <th>label_text</th>\n",
       "      <th>label_name</th>\n",
       "    </tr>\n",
       "  </thead>\n",
       "  <tbody>\n",
       "    <tr>\n",
       "      <th>0</th>\n",
       "      <td>i didnt feel humiliated</td>\n",
       "      <td>0</td>\n",
       "      <td>sadness</td>\n",
       "      <td>sadness</td>\n",
       "    </tr>\n",
       "    <tr>\n",
       "      <th>1</th>\n",
       "      <td>i can go from feeling so hopeless to so damned...</td>\n",
       "      <td>0</td>\n",
       "      <td>sadness</td>\n",
       "      <td>sadness</td>\n",
       "    </tr>\n",
       "    <tr>\n",
       "      <th>2</th>\n",
       "      <td>im grabbing a minute to post i feel greedy wrong</td>\n",
       "      <td>3</td>\n",
       "      <td>anger</td>\n",
       "      <td>anger</td>\n",
       "    </tr>\n",
       "    <tr>\n",
       "      <th>3</th>\n",
       "      <td>i am ever feeling nostalgic about the fireplac...</td>\n",
       "      <td>2</td>\n",
       "      <td>love</td>\n",
       "      <td>love</td>\n",
       "    </tr>\n",
       "    <tr>\n",
       "      <th>4</th>\n",
       "      <td>i am feeling grouchy</td>\n",
       "      <td>3</td>\n",
       "      <td>anger</td>\n",
       "      <td>anger</td>\n",
       "    </tr>\n",
       "  </tbody>\n",
       "</table>\n",
       "</div>"
      ],
      "text/plain": [
       "                                                text  label label_text  \\\n",
       "0                            i didnt feel humiliated      0    sadness   \n",
       "1  i can go from feeling so hopeless to so damned...      0    sadness   \n",
       "2   im grabbing a minute to post i feel greedy wrong      3      anger   \n",
       "3  i am ever feeling nostalgic about the fireplac...      2       love   \n",
       "4                               i am feeling grouchy      3      anger   \n",
       "\n",
       "  label_name  \n",
       "0    sadness  \n",
       "1    sadness  \n",
       "2      anger  \n",
       "3       love  \n",
       "4      anger  "
      ]
     },
     "execution_count": 18,
     "metadata": {},
     "output_type": "execute_result"
    }
   ],
   "source": [
    "df['label_name'] = df['label'].apply(label_int2str)\n",
    "df.head()"
   ]
  },
  {
   "cell_type": "markdown",
   "id": "4ca2eb58-85d4-4e9a-818f-cecf002fb20e",
   "metadata": {},
   "source": [
    "### 2.1.3 클래스 분포 살펴보기"
   ]
  },
  {
   "cell_type": "code",
   "execution_count": 19,
   "id": "b0e3ffed-dd97-4ab3-8bb3-c859a4c23a04",
   "metadata": {},
   "outputs": [],
   "source": [
    "import matplotlib.pyplot as plt"
   ]
  },
  {
   "cell_type": "code",
   "execution_count": 20,
   "id": "46445136-171f-452d-9a8a-835003c7b1a0",
   "metadata": {},
   "outputs": [
    {
     "data": {
      "image/png": "[encoded data removed]",
      "text/plain": [
       "<Figure size 640x480 with 1 Axes>"
      ]
     },
     "metadata": {},
     "output_type": "display_data"
    }
   ],
   "source": [
    "df['label_name'].value_counts(ascending=True).plot.barh()\n",
    "plt.title('Frequency of Classes')\n",
    "plt.show()"
   ]
  },
  {
   "cell_type": "markdown",
   "id": "c448f4bc-30fc-46b9-993a-8293a5e7f92f",
   "metadata": {},
   "source": [
    "### 2.1.4 트윗 길이 확인"
   ]
  },
  {
   "cell_type": "code",
   "execution_count": 21,
   "id": "e4de3b80-01cd-4ecb-ba8e-57182f646c74",
   "metadata": {},
   "outputs": [
    {
     "data": {
      "image/png": "[encoded data removed]",
      "text/plain": [
       "<Figure size 640x480 with 1 Axes>"
      ]
     },
     "metadata": {},
     "output_type": "display_data"
    }
   ],
   "source": [
    "df['Words Per Tweet'] = df['text'].str.split().apply(len)\n",
    "df.boxplot('Words Per Tweet', by='label_name', grid=False,\n",
    "           showfliers=False, color='black')\n",
    "plt.suptitle('')\n",
    "plt.xlabel('')\n",
    "plt.show()"
   ]
  },
  {
   "cell_type": "code",
   "execution_count": 22,
   "id": "b4b16aa1-b976-4812-ae18-c4890e86e353",
   "metadata": {},
   "outputs": [],
   "source": [
    "emotions.reset_format()"
   ]
  },
  {
   "cell_type": "markdown",
   "id": "cdf90dce-6c99-459c-b9ba-3466d279ecec",
   "metadata": {},
   "source": [
    "## 2.2 텍스트에서 토큰으로"
   ]
  },
  {
   "cell_type": "markdown",
   "id": "90c0bfb7-73a9-430f-8bb2-7f817ca8374b",
   "metadata": {},
   "source": [
    "### 2.2.1 문자 토큰화"
   ]
  },
  {
   "cell_type": "code",
   "execution_count": 23,
   "id": "ebd56306-4248-4c50-999c-af1aebd89976",
   "metadata": {},
   "outputs": [
    {
     "name": "stdout",
     "output_type": "stream",
     "text": [
      "['T', 'o', 'k', 'e', 'n', 'i', 'z', 'i', 'n', 'g', ' ', 't', 'e', 'x', 't', ' ', 'i', 's', ' ', 'a', ' ', 'c', 'o', 'r', 'e', ' ', 't', 'a', 's', 'k', ' ', 'o', 'f', ' ', 'N', 'L', 'P', '.']\n"
     ]
    }
   ],
   "source": [
    "text = 'Tokenizing text is a core task of NLP.'\n",
    "tokenized_text = list(text)\n",
    "print(tokenized_text)"
   ]
  },
  {
   "cell_type": "code",
   "execution_count": 24,
   "id": "efe50f9f-1b91-4db8-9a76-15182feae1f4",
   "metadata": {},
   "outputs": [
    {
     "name": "stdout",
     "output_type": "stream",
     "text": [
      "{' ': 0, '.': 1, 'L': 2, 'N': 3, 'P': 4, 'T': 5, 'a': 6, 'c': 7, 'e': 8, 'f': 9, 'g': 10, 'i': 11, 'k': 12, 'n': 13, 'o': 14, 'r': 15, 's': 16, 't': 17, 'x': 18, 'z': 19}\n"
     ]
    }
   ],
   "source": [
    "token2idx = {ch: idx for idx, ch in enumerate(sorted(set(tokenized_text)))}\n",
    "print(token2idx)"
   ]
  },
  {
   "cell_type": "code",
   "execution_count": 25,
   "id": "e175b4d6-e6aa-4600-a3c6-2842e8d05b92",
   "metadata": {},
   "outputs": [
    {
     "name": "stdout",
     "output_type": "stream",
     "text": [
      "[5, 14, 12, 8, 13, 11, 19, 11, 13, 10, 0, 17, 8, 18, 17, 0, 11, 16, 0, 6, 0, 7, 14, 15, 8, 0, 17, 6, 16, 12, 0, 14, 9, 0, 3, 2, 4, 1]\n"
     ]
    }
   ],
   "source": [
    "input_ids = [token2idx[token] for token in tokenized_text]\n",
    "print(input_ids)"
   ]
  },
  {
   "cell_type": "code",
   "execution_count": 26,
   "id": "890432f9-b7e2-4f8e-90a2-3905933574cc",
   "metadata": {},
   "outputs": [
    {
     "data": {
      "text/html": [
       "<div>\n",
       "<style scoped>\n",
       "    .dataframe tbody tr th:only-of-type {\n",
       "        vertical-align: middle;\n",
       "    }\n",
       "\n",
       "    .dataframe tbody tr th {\n",
       "        vertical-align: top;\n",
       "    }\n",
       "\n",
       "    .dataframe thead th {\n",
       "        text-align: right;\n",
       "    }\n",
       "</style>\n",
       "<table border=\"1\" class=\"dataframe\">\n",
       "  <thead>\n",
       "    <tr style=\"text-align: right;\">\n",
       "      <th></th>\n",
       "      <th>Name</th>\n",
       "      <th>Label ID</th>\n",
       "    </tr>\n",
       "  </thead>\n",
       "  <tbody>\n",
       "    <tr>\n",
       "      <th>0</th>\n",
       "      <td>Bumblebee</td>\n",
       "      <td>0</td>\n",
       "    </tr>\n",
       "    <tr>\n",
       "      <th>1</th>\n",
       "      <td>Optimus Prime</td>\n",
       "      <td>1</td>\n",
       "    </tr>\n",
       "    <tr>\n",
       "      <th>2</th>\n",
       "      <td>Megatron</td>\n",
       "      <td>2</td>\n",
       "    </tr>\n",
       "  </tbody>\n",
       "</table>\n",
       "</div>"
      ],
      "text/plain": [
       "            Name  Label ID\n",
       "0      Bumblebee         0\n",
       "1  Optimus Prime         1\n",
       "2       Megatron         2"
      ]
     },
     "execution_count": 26,
     "metadata": {},
     "output_type": "execute_result"
    }
   ],
   "source": [
    "# 각 이름을 고유한 아이디로 매핑하는 방법\n",
    "categorical_df = pd.DataFrame(\n",
    "    {'Name': ['Bumblebee', 'Optimus Prime', 'Megatron'], \"Label ID\": [0, 1, 2]})\n",
    "categorical_df"
   ]
  },
  {
   "cell_type": "markdown",
   "id": "0083f1d6-aa43-44ae-a3c4-5ae623d109dd",
   "metadata": {},
   "source": [
    "이 방식은 이름 사이에 가상의 순서가 만들어진다는 문제가 있음<br>신경망은 이런 종류의 관계를 학습하는 능력이 매우 뛰어남"
   ]
  },
  {
   "cell_type": "code",
   "execution_count": 27,
   "id": "7b566e93-4d5e-432b-afe8-6dccab33b710",
   "metadata": {},
   "outputs": [
    {
     "data": {
      "text/html": [
       "<div>\n",
       "<style scoped>\n",
       "    .dataframe tbody tr th:only-of-type {\n",
       "        vertical-align: middle;\n",
       "    }\n",
       "\n",
       "    .dataframe tbody tr th {\n",
       "        vertical-align: top;\n",
       "    }\n",
       "\n",
       "    .dataframe thead th {\n",
       "        text-align: right;\n",
       "    }\n",
       "</style>\n",
       "<table border=\"1\" class=\"dataframe\">\n",
       "  <thead>\n",
       "    <tr style=\"text-align: right;\">\n",
       "      <th></th>\n",
       "      <th>Bumblebee</th>\n",
       "      <th>Megatron</th>\n",
       "      <th>Optimus Prime</th>\n",
       "    </tr>\n",
       "  </thead>\n",
       "  <tbody>\n",
       "    <tr>\n",
       "      <th>0</th>\n",
       "      <td>1</td>\n",
       "      <td>0</td>\n",
       "      <td>0</td>\n",
       "    </tr>\n",
       "    <tr>\n",
       "      <th>1</th>\n",
       "      <td>0</td>\n",
       "      <td>0</td>\n",
       "      <td>1</td>\n",
       "    </tr>\n",
       "    <tr>\n",
       "      <th>2</th>\n",
       "      <td>0</td>\n",
       "      <td>1</td>\n",
       "      <td>0</td>\n",
       "    </tr>\n",
       "  </tbody>\n",
       "</table>\n",
       "</div>"
      ],
      "text/plain": [
       "   Bumblebee  Megatron  Optimus Prime\n",
       "0          1         0              0\n",
       "1          0         0              1\n",
       "2          0         1              0"
      ]
     },
     "execution_count": 27,
     "metadata": {},
     "output_type": "execute_result"
    }
   ],
   "source": [
    "# 범주마다 새 열을 만들어 이름이 범주에 해당하면 1, 그렇지 않으면 0을 할당하는 방법(원-핫 인코딩)\n",
    "pd.get_dummies(categorical_df['Name'])"
   ]
  },
  {
   "cell_type": "code",
   "execution_count": 28,
   "id": "8a19dce6-aae5-48b7-bab5-ca8503c1fcd8",
   "metadata": {},
   "outputs": [],
   "source": [
    "import torch\n",
    "import torch.nn.functional as F"
   ]
  },
  {
   "cell_type": "code",
   "execution_count": 29,
   "id": "0521663c-b6e4-4016-9677-dcd8bb2e0b02",
   "metadata": {},
   "outputs": [
    {
     "data": {
      "text/plain": [
       "torch.Size([38, 20])"
      ]
     },
     "execution_count": 29,
     "metadata": {},
     "output_type": "execute_result"
    }
   ],
   "source": [
    "input_ids = torch.tensor(input_ids)\n",
    "one_hot_encodings = F.one_hot(input_ids, num_classes=len(token2idx))\n",
    "one_hot_encodings.shape"
   ]
  },
  {
   "cell_type": "markdown",
   "id": "753a7a78-6665-49e6-85e0-c6ac70cb02ed",
   "metadata": {},
   "source": [
    "38개의 입력 토큰 각각에 20차원의 웟-핫 벡터가 만들어졌음\n",
    "\n",
    "어휘 사전을 구성하는 고유한 문자가 20개이기 때문"
   ]
  },
  {
   "cell_type": "markdown",
   "id": "9945b29b-6c31-47aa-ad64-beb5426034ef",
   "metadata": {},
   "source": [
    "> one_hot() 함수에 항상 num_classes 매개변수를 지정하는 것이 중요함<br>그렇지 않으면 입력 텐서에서 가장 큰 정수에 1을 더한 값을 클래스 개수로 사용하기 때문에 원-핫 벡터가 어휘사전 길이보다 더 짧아질 수 있음(수동으로 0으로 패딩해야 함)<br>tensorflow 에서는 tf.one_hot() 함수가 있고 depth 매개변수가 num_classes 의 역할을 함"
   ]
  },
  {
   "cell_type": "code",
   "execution_count": 30,
   "id": "5241234d-7336-4fb5-9579-e2c5448da568",
   "metadata": {},
   "outputs": [
    {
     "name": "stdout",
     "output_type": "stream",
     "text": [
      "토큰: T\n",
      "텐서 인덱스: 5\n",
      "원-핫 인코딩: tensor([0, 0, 0, 0, 0, 1, 0, 0, 0, 0, 0, 0, 0, 0, 0, 0, 0, 0, 0, 0])\n"
     ]
    }
   ],
   "source": [
    "print(f'토큰: {tokenized_text[0]}')\n",
    "print(f'텐서 인덱스: {input_ids[0]}')\n",
    "print(f'원-핫 인코딩: {one_hot_encodings[0]}')"
   ]
  },
  {
   "cell_type": "markdown",
   "id": "6158c2a4-bb3b-4a27-8358-19aff761f312",
   "metadata": {},
   "source": [
    "### 2.2.2 단어 토큰화"
   ]
  },
  {
   "cell_type": "code",
   "execution_count": 31,
   "id": "96fcef37-e78e-48a1-a661-11e2ad80bbb3",
   "metadata": {},
   "outputs": [
    {
     "name": "stdout",
     "output_type": "stream",
     "text": [
      "['Tokenizing', 'text', 'is', 'a', 'core', 'task', 'of', 'NLP.']\n"
     ]
    }
   ],
   "source": [
    "tokenized_text = text.split()\n",
    "print(tokenized_text)"
   ]
  },
  {
   "cell_type": "markdown",
   "id": "5b74ce83-78bd-43a7-a668-5726a6e5b292",
   "metadata": {},
   "source": [
    "### 2.2.3 부분단어(subword) 토큰화"
   ]
  },
  {
   "cell_type": "code",
   "execution_count": 32,
   "id": "2bb9ad20-dd44-47b1-8eb8-860aec1aabf3",
   "metadata": {},
   "outputs": [
    {
     "name": "stderr",
     "output_type": "stream",
     "text": [
      "2023-01-06 17:00:50.246247: I tensorflow/core/platform/cpu_feature_guard.cc:193] This TensorFlow binary is optimized with oneAPI Deep Neural Network Library (oneDNN) to use the following CPU instructions in performance-critical operations:  AVX2 FMA\n",
      "To enable them in other operations, rebuild TensorFlow with the appropriate compiler flags.\n",
      "2023-01-06 17:00:50.792606: W tensorflow/compiler/xla/stream_executor/platform/default/dso_loader.cc:64] Could not load dynamic library 'libnvinfer.so.7'; dlerror: libnvinfer.so.7: cannot open shared object file: No such file or directory; LD_LIBRARY_PATH: /usr/local/cuda/lib64:/usr/local/cuda/lib64:\n",
      "2023-01-06 17:00:50.792660: W tensorflow/compiler/xla/stream_executor/platform/default/dso_loader.cc:64] Could not load dynamic library 'libnvinfer_plugin.so.7'; dlerror: libnvinfer_plugin.so.7: cannot open shared object file: No such file or directory; LD_LIBRARY_PATH: /usr/local/cuda/lib64:/usr/local/cuda/lib64:\n",
      "2023-01-06 17:00:50.792666: W tensorflow/compiler/tf2tensorrt/utils/py_utils.cc:38] TF-TRT Warning: Cannot dlopen some TensorRT libraries. If you would like to use Nvidia GPU with TensorRT, please make sure the missing libraries mentioned above are installed properly.\n"
     ]
    }
   ],
   "source": [
    "from transformers import AutoTokenizer"
   ]
  },
  {
   "cell_type": "code",
   "execution_count": 33,
   "id": "1ee189b4-4374-4f67-b824-a940d8b86a0a",
   "metadata": {},
   "outputs": [],
   "source": [
    "model_ckpt = 'distilbert-base-uncased'\n",
    "tokenizer = AutoTokenizer.from_pretrained(model_ckpt)"
   ]
  },
  {
   "cell_type": "code",
   "execution_count": 34,
   "id": "fc9ad972-d930-481e-a190-1dc86f1a4ea0",
   "metadata": {},
   "outputs": [],
   "source": [
    "from transformers import DistilBertTokenizer"
   ]
  },
  {
   "cell_type": "code",
   "execution_count": 35,
   "id": "276f9f87-1b2e-4e59-9214-f48a6183c66a",
   "metadata": {},
   "outputs": [],
   "source": [
    "distilbert_tokenizer = DistilBertTokenizer.from_pretrained(model_ckpt)"
   ]
  },
  {
   "cell_type": "markdown",
   "id": "60958b8a-b06f-4859-91d4-35b41ef89fed",
   "metadata": {},
   "source": [
    "> AutoTokenizer.from_pretrained() 메서드를 호출하면 사전 훈련된 토크나이저의 파라미터를 허깅페이스 허브에서 로드하는 과정을 보여주는 진행 표시줄이 나타납니다. 이 코드를 두 번째 호출하면 캐시로부터 토크나이저를 로드합니다. 보통 캐시 위치는 ~/.cache/huggingface 입니다."
   ]
  },
  {
   "cell_type": "code",
   "execution_count": 36,
   "id": "7b7cce86-6281-40be-933a-ddff22fd3bc8",
   "metadata": {},
   "outputs": [
    {
     "name": "stdout",
     "output_type": "stream",
     "text": [
      "{'input_ids': [101, 19204, 6026, 3793, 2003, 1037, 4563, 4708, 1997, 17953, 2361, 1012, 102], 'attention_mask': [1, 1, 1, 1, 1, 1, 1, 1, 1, 1, 1, 1, 1]}\n"
     ]
    }
   ],
   "source": [
    "encoded_text = tokenizer(text)\n",
    "print(encoded_text)"
   ]
  },
  {
   "cell_type": "code",
   "execution_count": 37,
   "id": "2651feec-e05d-4074-a761-33f22b2c1d1c",
   "metadata": {},
   "outputs": [
    {
     "name": "stdout",
     "output_type": "stream",
     "text": [
      "['[CLS]', 'token', '##izing', 'text', 'is', 'a', 'core', 'task', 'of', 'nl', '##p', '.', '[SEP]']\n"
     ]
    }
   ],
   "source": [
    "tokens = tokenizer.convert_ids_to_tokens(encoded_text.input_ids)\n",
    "print(tokens)"
   ]
  },
  {
   "cell_type": "code",
   "execution_count": 38,
   "id": "b7cfee26-d7f1-4e4b-b6df-959f272ae496",
   "metadata": {},
   "outputs": [
    {
     "name": "stdout",
     "output_type": "stream",
     "text": [
      "[CLS] tokenizing text is a core task of nlp. [SEP]\n"
     ]
    }
   ],
   "source": [
    "print(tokenizer.convert_tokens_to_string(tokens))"
   ]
  },
  {
   "cell_type": "code",
   "execution_count": 39,
   "id": "bf0b119c-cb07-4b14-afa7-96dfda5a780f",
   "metadata": {},
   "outputs": [
    {
     "data": {
      "text/plain": [
       "30522"
      ]
     },
     "execution_count": 39,
     "metadata": {},
     "output_type": "execute_result"
    }
   ],
   "source": [
    "tokenizer.vocab_size"
   ]
  },
  {
   "cell_type": "code",
   "execution_count": 40,
   "id": "55ce79e8-c042-4582-ab09-c8dec435a203",
   "metadata": {},
   "outputs": [
    {
     "data": {
      "text/plain": [
       "512"
      ]
     },
     "execution_count": 40,
     "metadata": {},
     "output_type": "execute_result"
    }
   ],
   "source": [
    "tokenizer.model_max_length"
   ]
  },
  {
   "cell_type": "code",
   "execution_count": 41,
   "id": "303c3f3d-f7ae-44bb-879b-e39296509e45",
   "metadata": {},
   "outputs": [
    {
     "data": {
      "text/plain": [
       "['input_ids', 'attention_mask']"
      ]
     },
     "execution_count": 41,
     "metadata": {},
     "output_type": "execute_result"
    }
   ],
   "source": [
    "tokenizer.model_input_names"
   ]
  },
  {
   "cell_type": "markdown",
   "id": "5719a3f8-e373-4cba-9004-53d11b978e0c",
   "metadata": {},
   "source": [
    "> 사전 훈련된 모델을 사용할 때, 모델 훈련에 사용한 것과 동일한 토크나이저를 사용하는 것이 정말 중요함<br>모델 입장에서 토크나이저를 바꾸는 것은 어휘사전을 뒤섞는 것이나 다름없음<br>주변 사람들이 'house'를 'cat'이라 하는 등 마음대로 단어를 바꾼다면 도대체 무슨 일인지 상황을 이해하지 못할 것임"
   ]
  },
  {
   "cell_type": "markdown",
   "id": "c6668133-fad4-4fc5-9cfa-c69d90a96528",
   "metadata": {},
   "source": [
    "### 2.2.4 전체 데이터셋 토큰화하기"
   ]
  },
  {
   "cell_type": "code",
   "execution_count": 42,
   "id": "2d39e892-6238-43aa-a197-1004c568d22d",
   "metadata": {},
   "outputs": [],
   "source": [
    "def tokenize(batch):\n",
    "    return tokenizer(batch['text'], padding=True, truncation=True)"
   ]
  },
  {
   "cell_type": "code",
   "execution_count": 43,
   "id": "b511e6af-1ad4-4d01-bfdd-481608bb4dd8",
   "metadata": {},
   "outputs": [
    {
     "name": "stdout",
     "output_type": "stream",
     "text": [
      "{'input_ids': [[101, 1045, 2134, 2102, 2514, 26608, 102, 0, 0, 0, 0, 0, 0, 0, 0, 0, 0, 0, 0, 0, 0, 0, 0], [101, 1045, 2064, 2175, 2013, 3110, 2061, 20625, 2000, 2061, 9636, 17772, 2074, 2013, 2108, 2105, 2619, 2040, 14977, 1998, 2003, 8300, 102]], 'attention_mask': [[1, 1, 1, 1, 1, 1, 1, 0, 0, 0, 0, 0, 0, 0, 0, 0, 0, 0, 0, 0, 0, 0, 0], [1, 1, 1, 1, 1, 1, 1, 1, 1, 1, 1, 1, 1, 1, 1, 1, 1, 1, 1, 1, 1, 1, 1]]}\n"
     ]
    }
   ],
   "source": [
    "print(tokenize(emotions['train'][:2]))"
   ]
  },
  {
   "cell_type": "code",
   "execution_count": 51,
   "id": "95bf8be6-3d71-442b-831d-1089f2c068c8",
   "metadata": {},
   "outputs": [
    {
     "data": {
      "text/plain": [
       "[('[UNK]', 100), ('[SEP]', 102), ('[PAD]', 0), ('[CLS]', 101), ('[MASK]', 103)]"
      ]
     },
     "execution_count": 51,
     "metadata": {},
     "output_type": "execute_result"
    }
   ],
   "source": [
    "tokens2idx = list(zip(tokenizer.all_special_tokens, tokenizer.all_special_ids))\n",
    "tokens2idx"
   ]
  },
  {
   "cell_type": "code",
   "execution_count": 52,
   "id": "46aced72-c3f2-4157-9676-0d356e7b1700",
   "metadata": {},
   "outputs": [
    {
     "data": {
      "text/plain": [
       "[('[PAD]', 0), ('[UNK]', 100), ('[CLS]', 101), ('[SEP]', 102), ('[MASK]', 103)]"
      ]
     },
     "execution_count": 52,
     "metadata": {},
     "output_type": "execute_result"
    }
   ],
   "source": [
    "data = sorted(tokens2idx, key=lambda x: x[-1])\n",
    "data"
   ]
  },
  {
   "cell_type": "code",
   "execution_count": 53,
   "id": "afadc5ef-51a9-406f-b983-0188182c2716",
   "metadata": {},
   "outputs": [
    {
     "data": {
      "text/html": [
       "<div>\n",
       "<style scoped>\n",
       "    .dataframe tbody tr th:only-of-type {\n",
       "        vertical-align: middle;\n",
       "    }\n",
       "\n",
       "    .dataframe tbody tr th {\n",
       "        vertical-align: top;\n",
       "    }\n",
       "\n",
       "    .dataframe thead th {\n",
       "        text-align: right;\n",
       "    }\n",
       "</style>\n",
       "<table border=\"1\" class=\"dataframe\">\n",
       "  <thead>\n",
       "    <tr style=\"text-align: right;\">\n",
       "      <th></th>\n",
       "      <th>0</th>\n",
       "      <th>1</th>\n",
       "      <th>2</th>\n",
       "      <th>3</th>\n",
       "      <th>4</th>\n",
       "    </tr>\n",
       "  </thead>\n",
       "  <tbody>\n",
       "    <tr>\n",
       "      <th>Special Token</th>\n",
       "      <td>[PAD]</td>\n",
       "      <td>[UNK]</td>\n",
       "      <td>[CLS]</td>\n",
       "      <td>[SEP]</td>\n",
       "      <td>[MASK]</td>\n",
       "    </tr>\n",
       "    <tr>\n",
       "      <th>Special Token ID</th>\n",
       "      <td>0</td>\n",
       "      <td>100</td>\n",
       "      <td>101</td>\n",
       "      <td>102</td>\n",
       "      <td>103</td>\n",
       "    </tr>\n",
       "  </tbody>\n",
       "</table>\n",
       "</div>"
      ],
      "text/plain": [
       "                      0      1      2      3       4\n",
       "Special Token     [PAD]  [UNK]  [CLS]  [SEP]  [MASK]\n",
       "Special Token ID      0    100    101    102     103"
      ]
     },
     "execution_count": 53,
     "metadata": {},
     "output_type": "execute_result"
    }
   ],
   "source": [
    "df = pd.DataFrame(data, columns=['Special Token', 'Special Token ID'])\n",
    "df.T"
   ]
  },
  {
   "cell_type": "code",
   "execution_count": 44,
   "id": "1fc8f570-668d-4a81-8c09-4b24700085d3",
   "metadata": {},
   "outputs": [
    {
     "name": "stderr",
     "output_type": "stream",
     "text": [
      "Parameter 'function'=<function tokenize at 0x7fbf65a7d040> of the transform datasets.arrow_dataset.Dataset._map_single couldn't be hashed properly, a random hash was used instead. Make sure your transforms and parameters are serializable with pickle or dill for the dataset fingerprinting and caching to work. If you reuse this transform, the caching mechanism will consider it to be different from the previous calls and recompute everything. This warning is only showed once. Subsequent hashing failures won't be showed.\n"
     ]
    },
    {
     "data": {
      "application/vnd.jupyter.widget-view+json": {
       "model_id": "19376754ce564e5b9d1fbe4fe9f4c85f",
       "version_major": 2,
       "version_minor": 0
      },
      "text/plain": [
       "  0%|          | 0/1 [00:00<?, ?ba/s]"
      ]
     },
     "metadata": {},
     "output_type": "display_data"
    },
    {
     "data": {
      "application/vnd.jupyter.widget-view+json": {
       "model_id": "a0c1aad10d1e4f69940bba47deef2cac",
       "version_major": 2,
       "version_minor": 0
      },
      "text/plain": [
       "  0%|          | 0/1 [00:00<?, ?ba/s]"
      ]
     },
     "metadata": {},
     "output_type": "display_data"
    },
    {
     "data": {
      "application/vnd.jupyter.widget-view+json": {
       "model_id": "e9c85e4476b14790a698e54cd9845155",
       "version_major": 2,
       "version_minor": 0
      },
      "text/plain": [
       "  0%|          | 0/1 [00:00<?, ?ba/s]"
      ]
     },
     "metadata": {},
     "output_type": "display_data"
    }
   ],
   "source": [
    "emotion_encoded = emotions.map(tokenize, batched=True, batch_size=None)"
   ]
  },
  {
   "cell_type": "code",
   "execution_count": 45,
   "id": "242dbbe7-ac1e-44f6-8d0a-d275694cba18",
   "metadata": {},
   "outputs": [
    {
     "name": "stdout",
     "output_type": "stream",
     "text": [
      "['attention_mask', 'input_ids', 'label', 'label_text', 'text']\n"
     ]
    }
   ],
   "source": [
    "print(emotion_encoded['train'].column_names)"
   ]
  },
  {
   "cell_type": "code",
   "execution_count": 50,
   "id": "3227af05-5129-4d0a-8358-a1be42952767",
   "metadata": {},
   "outputs": [
    {
     "name": "stdout",
     "output_type": "stream",
     "text": [
      "{'attention_mask': [1, 1, 1, 1, 1, 1, 1, 0, 0, 0, 0, 0, 0, 0, 0, 0, 0, 0, 0, 0, 0, 0, 0, 0, 0, 0, 0, 0, 0, 0, 0, 0, 0, 0, 0, 0, 0, 0, 0, 0, 0, 0, 0, 0, 0, 0, 0, 0, 0, 0, 0, 0, 0, 0, 0, 0, 0, 0, 0, 0, 0, 0, 0, 0, 0, 0, 0, 0, 0, 0, 0, 0, 0, 0, 0, 0, 0, 0, 0, 0, 0, 0, 0, 0, 0, 0, 0], 'input_ids': [101, 1045, 2134, 2102, 2514, 26608, 102, 0, 0, 0, 0, 0, 0, 0, 0, 0, 0, 0, 0, 0, 0, 0, 0, 0, 0, 0, 0, 0, 0, 0, 0, 0, 0, 0, 0, 0, 0, 0, 0, 0, 0, 0, 0, 0, 0, 0, 0, 0, 0, 0, 0, 0, 0, 0, 0, 0, 0, 0, 0, 0, 0, 0, 0, 0, 0, 0, 0, 0, 0, 0, 0, 0, 0, 0, 0, 0, 0, 0, 0, 0, 0, 0, 0, 0, 0, 0, 0], 'label': 0, 'label_text': 'sadness', 'text': 'i didnt feel humiliated'}\n"
     ]
    }
   ],
   "source": [
    "print(emotion_encoded['train'][0])"
   ]
  },
  {
   "cell_type": "markdown",
   "id": "b8ef3238-3902-4018-b23b-96fd663ae623",
   "metadata": {},
   "source": [
    "> 이어지는 장에서 배치에 있는 텐서에 동적으로 패딩 처리를 취하는 데이터 콜레이터(data collator)를 살펴보겠음<br>다음 절에서 보겠지만, 전역적인 패딩은 전체 말뭉치에서 특성 행렬(feature matrix)을 추출하는 데 도움이 됨"
   ]
  },
  {
   "cell_type": "markdown",
   "id": "9efa39be-1c7c-4314-a95d-cb4ff444c959",
   "metadata": {},
   "source": [
    "## 2.3 텍스트 분류 모델 훈련하기"
   ]
  },
  {
   "cell_type": "markdown",
   "id": "93cc5c54-0fa3-4574-80b5-e1278ea26c92",
   "metadata": {},
   "source": [
    "### 2.3.1 트랜스포머를 특성 추출기로 사용하기"
   ]
  },
  {
   "cell_type": "markdown",
   "id": "b66ea908-fa76-498e-9b5c-ea086bb1620b",
   "metadata": {},
   "source": [
    "#### 사전 훈련된 모델 사용하기"
   ]
  },
  {
   "cell_type": "code",
   "execution_count": 54,
   "id": "1838a08b-08d8-4483-80e0-774d10c8c45e",
   "metadata": {},
   "outputs": [],
   "source": [
    "from transformers import AutoModel"
   ]
  },
  {
   "cell_type": "code",
   "execution_count": 98,
   "id": "4a15d599-82cd-4b99-b9c4-184c6e8dd031",
   "metadata": {},
   "outputs": [],
   "source": [
    "model_ckpt = 'distilbert-base-uncased'\n",
    "device = torch.device('cuda' if torch.cuda.is_available() else 'cpu')\n",
    "model = AutoModel.from_pretrained(model_ckpt).to(device)"
   ]
  },
  {
   "cell_type": "markdown",
   "id": "6547a453-0953-4891-8f98-1da04a291b57",
   "metadata": {},
   "source": [
    "#### 프레임워크 간의 상호운영성"
   ]
  },
  {
   "cell_type": "markdown",
   "id": "d229777b-f22b-41b8-8319-a916a06e0694",
   "metadata": {},
   "source": [
    "```\n",
    "# TFAutoModel 클래스를 사용해 텐서플로에서 DistilBERT 모델을 로드\n",
    "from transformers import TFAutoModel\n",
    "\n",
    "tf_model = TFAutoModel.from_pretrained(model_ckpt)\n",
    "\n",
    "# XLM-RoBERTa 모델은 파이토치 가중치만 있음. 따라서 텐서플로에서 다음처럼 로드하려면 오류 발생\n",
    "tf_xlmr = TFAutoModel.from_pretrained('xlm-roberta-base')\n",
    "\n",
    "# 이 경우 TFAutoModel.from_pretrained() 함수에 from_pt=True 매개변수를 지정하면 라이브러리가 자동으로 파이토치 가중치를 다운로드해 변환함\n",
    "tf_xlmr = TFAutoModel.from_pretrained('xlm-roberta-base', from_pt=True)\n",
    "```"
   ]
  },
  {
   "cell_type": "markdown",
   "id": "7e59add5-0dc1-4575-a1ea-731f1c56a53b",
   "metadata": {},
   "source": [
    "#### 마지막 은닉 상태 추출하기"
   ]
  },
  {
   "cell_type": "code",
   "execution_count": 60,
   "id": "718d9af4-0d54-4673-a709-28002be7755c",
   "metadata": {},
   "outputs": [
    {
     "name": "stdout",
     "output_type": "stream",
     "text": [
      "입력 텐서 크기: torch.Size([1, 6])\n"
     ]
    }
   ],
   "source": [
    "text = 'this is a test'\n",
    "# return_tensors 매개변수를 지정하지 않으면 파이썬 리스트가 반환됨\n",
    "inputs = tokenizer(text, return_tensors='pt')\n",
    "print(f'입력 텐서 크기: {inputs[\"input_ids\"].size()}')"
   ]
  },
  {
   "cell_type": "markdown",
   "id": "4fadf6f9-06b3-4dc6-b1b3-8bdbd979e319",
   "metadata": {},
   "source": [
    "텐서의 크기는 [batch_size, n_tokens]"
   ]
  },
  {
   "cell_type": "code",
   "execution_count": 61,
   "id": "72794baa-6679-4fc3-998b-8347cdc84954",
   "metadata": {},
   "outputs": [
    {
     "name": "stdout",
     "output_type": "stream",
     "text": [
      "BaseModelOutput(last_hidden_state=tensor([[[-0.1565, -0.1862,  0.0528,  ..., -0.1188,  0.0662,  0.5470],\n",
      "         [-0.3575, -0.6484, -0.0618,  ..., -0.3040,  0.3508,  0.5221],\n",
      "         [-0.2772, -0.4459,  0.1818,  ..., -0.0948, -0.0076,  0.9958],\n",
      "         [-0.2841, -0.3917,  0.3753,  ..., -0.2151, -0.1173,  1.0526],\n",
      "         [ 0.2661, -0.5094, -0.3180,  ..., -0.4203,  0.0144, -0.2149],\n",
      "         [ 0.9441,  0.0112, -0.4714,  ...,  0.1439, -0.7288, -0.1619]]],\n",
      "       device='cuda:0'), hidden_states=None, attentions=None)\n"
     ]
    }
   ],
   "source": [
    "inputs = {k: v.to(device) for k, v in inputs.items()}\n",
    "with torch.no_grad():\n",
    "    outputs = model(**inputs)\n",
    "print(outputs)"
   ]
  },
  {
   "cell_type": "code",
   "execution_count": 62,
   "id": "d036eaec-7729-4df9-a7be-6883d348a5f4",
   "metadata": {},
   "outputs": [
    {
     "data": {
      "text/plain": [
       "torch.Size([1, 6, 768])"
      ]
     },
     "execution_count": 62,
     "metadata": {},
     "output_type": "execute_result"
    }
   ],
   "source": [
    "outputs.last_hidden_state.size()"
   ]
  },
  {
   "cell_type": "markdown",
   "id": "4166d605-cfa6-4393-966f-76478f3e53c9",
   "metadata": {},
   "source": [
    "은닉 상태 텐서의 크기는 [batch_size, n_tokens, hidden_dim]\n",
    "\n",
    "6개의 입력 토큰마다 768 차원의 벡터가 반환됨\n",
    "\n",
    "분류 작업에서는 [CLS] 토큰에 연관된 은닉 상태를 입력 특성으로 사용함"
   ]
  },
  {
   "cell_type": "code",
   "execution_count": 64,
   "id": "cf5c9164-daad-4140-95a4-3a7df9b9cacd",
   "metadata": {},
   "outputs": [
    {
     "data": {
      "text/plain": [
       "torch.Size([1, 768])"
      ]
     },
     "execution_count": 64,
     "metadata": {},
     "output_type": "execute_result"
    }
   ],
   "source": [
    "# [CLS] 토큰은 시퀀스 시작에 등장하므로 다음처럼 추출할 수 있음\n",
    "outputs.last_hidden_state[:, 0].size()"
   ]
  },
  {
   "cell_type": "code",
   "execution_count": 65,
   "id": "b48e6c6b-31eb-4051-8e15-6846e778a48b",
   "metadata": {},
   "outputs": [],
   "source": [
    "def extract_hidden_state(batch):\n",
    "    # 모델 입력을 GPU로 옮깁니다.\n",
    "    inputs = {k: v.to(device) for k, v in batch.items()\n",
    "              if k in tokenizer.model_input_names}\n",
    "    # 마지막 은닉 상태를 추출합니다.\n",
    "    with torch.no_grad():\n",
    "        last_hidden_state = model(**inputs).last_hidden_state\n",
    "    # [CLS] 토큰에 대한 벡터를 반환합니다.\n",
    "    return {'hidden_state': last_hidden_state[:, 0].cpu().numpy()}"
   ]
  },
  {
   "cell_type": "markdown",
   "id": "4b3dd80d-3863-4e2d-8c5b-14558d8f59ff",
   "metadata": {},
   "source": [
    "이 함수와 이전 코드의 유일한 차이점은 끝에서 마지막 은닉 상태를 CPU로 다시 가져와 넘파이 배열로 바꾼 것임\n",
    "\n",
    "map() 메서드에 배치 입력을 사용하려면 파이썬이나 넘파이 객체를 반환하는 처리 함수가 필요함"
   ]
  },
  {
   "cell_type": "code",
   "execution_count": 68,
   "id": "5b060f18-f5f4-4179-bbec-4be2435f2bf1",
   "metadata": {},
   "outputs": [],
   "source": [
    "# 이 모델은 텐서가 입력되기를 기대하므로, 다음처럼 input_ids 와 attention_mask 열을 \n",
    "# 'torch' 포맷으로 바꿈\n",
    "emotion_encoded.set_format('torch',\n",
    "                           columns=['input_ids', 'attention_mask', 'label'])"
   ]
  },
  {
   "cell_type": "code",
   "execution_count": 69,
   "id": "1bd1d220-c5d4-4811-9dc8-133ca577dae0",
   "metadata": {},
   "outputs": [
    {
     "data": {
      "application/vnd.jupyter.widget-view+json": {
       "model_id": "876a65b326c240399f6d32b5888da6c2",
       "version_major": 2,
       "version_minor": 0
      },
      "text/plain": [
       "  0%|          | 0/16 [00:00<?, ?ba/s]"
      ]
     },
     "metadata": {},
     "output_type": "display_data"
    },
    {
     "data": {
      "application/vnd.jupyter.widget-view+json": {
       "model_id": "544e3e2b4a014ba2bab42fb9b5744a90",
       "version_major": 2,
       "version_minor": 0
      },
      "text/plain": [
       "  0%|          | 0/2 [00:00<?, ?ba/s]"
      ]
     },
     "metadata": {},
     "output_type": "display_data"
    },
    {
     "data": {
      "application/vnd.jupyter.widget-view+json": {
       "model_id": "ae71885732a54c4aa66b7c153b9cc723",
       "version_major": 2,
       "version_minor": 0
      },
      "text/plain": [
       "  0%|          | 0/2 [00:00<?, ?ba/s]"
      ]
     },
     "metadata": {},
     "output_type": "display_data"
    }
   ],
   "source": [
    "emotion_hidden = emotion_encoded.map(extract_hidden_state, batched=True)"
   ]
  },
  {
   "cell_type": "markdown",
   "id": "7f2f2ec2-57e3-44a6-b8ca-53861a6c67a0",
   "metadata": {},
   "source": [
    "batch_size=None 으로 지정하지 않았기 때문에 기본값 batch_size=1000 이 사용됨\n",
    "\n",
    "기대한 대로 extract_hidden_state() 함수를 적용하면 새로운 hidden_state 열이 데이터셋에 추가됨"
   ]
  },
  {
   "cell_type": "code",
   "execution_count": 70,
   "id": "197bb13c-adde-4fa1-a188-635bd94c7c33",
   "metadata": {},
   "outputs": [
    {
     "data": {
      "text/plain": [
       "['attention_mask', 'hidden_state', 'input_ids', 'label', 'label_text', 'text']"
      ]
     },
     "execution_count": 70,
     "metadata": {},
     "output_type": "execute_result"
    }
   ],
   "source": [
    "emotion_hidden['train'].column_names"
   ]
  },
  {
   "cell_type": "markdown",
   "id": "1c6ca3ce-6739-4087-8124-5621bdad22f2",
   "metadata": {},
   "source": [
    "#### 특성 행렬 만들기"
   ]
  },
  {
   "cell_type": "code",
   "execution_count": 71,
   "id": "2357202f-82e4-4ba4-8359-2f19ee8fe215",
   "metadata": {},
   "outputs": [],
   "source": [
    "import numpy as np"
   ]
  },
  {
   "cell_type": "code",
   "execution_count": 76,
   "id": "2339b030-93f7-48b9-8ea6-6e589a29a5eb",
   "metadata": {},
   "outputs": [
    {
     "data": {
      "text/plain": [
       "((16000, 768), (2000, 768))"
      ]
     },
     "execution_count": 76,
     "metadata": {},
     "output_type": "execute_result"
    }
   ],
   "source": [
    "X_train = np.array(emotion_hidden['train']['hidden_state'])\n",
    "X_valid = np.array(emotion_hidden['validation']['hidden_state'])\n",
    "y_train = np.array(emotion_hidden['train']['label'])\n",
    "y_valid = np.array(emotion_hidden['validation']['label'])\n",
    "X_train.shape, X_valid.shape"
   ]
  },
  {
   "cell_type": "markdown",
   "id": "217697fc-22a4-4c2d-b6e2-bae38d211d31",
   "metadata": {},
   "source": [
    "#### 훈련 세트 시각화하기"
   ]
  },
  {
   "cell_type": "markdown",
   "id": "c9d75cc2-d0f5-44a4-8fae-71bb239a74dc",
   "metadata": {},
   "source": [
    "768 차원의 은닉 상태를 시각화하기는 얼엽기 때문에 UMAP 알고리즘을 사용해 이 벡터를 2D 로 투영\n",
    "\n",
    "UMAP 은 특성이 [0, 1] 범위에 놓일 때 잘 동작함"
   ]
  },
  {
   "cell_type": "code",
   "execution_count": 73,
   "id": "8e708ceb-8d33-4e43-956f-8f7ca44cc905",
   "metadata": {},
   "outputs": [],
   "source": [
    "from umap import UMAP\n",
    "from sklearn.preprocessing import MinMaxScaler"
   ]
  },
  {
   "cell_type": "code",
   "execution_count": 77,
   "id": "b614f70b-0984-4501-8be3-687f3a6eed6f",
   "metadata": {},
   "outputs": [
    {
     "data": {
      "text/html": [
       "<div>\n",
       "<style scoped>\n",
       "    .dataframe tbody tr th:only-of-type {\n",
       "        vertical-align: middle;\n",
       "    }\n",
       "\n",
       "    .dataframe tbody tr th {\n",
       "        vertical-align: top;\n",
       "    }\n",
       "\n",
       "    .dataframe thead th {\n",
       "        text-align: right;\n",
       "    }\n",
       "</style>\n",
       "<table border=\"1\" class=\"dataframe\">\n",
       "  <thead>\n",
       "    <tr style=\"text-align: right;\">\n",
       "      <th></th>\n",
       "      <th>X</th>\n",
       "      <th>Y</th>\n",
       "      <th>label</th>\n",
       "    </tr>\n",
       "  </thead>\n",
       "  <tbody>\n",
       "    <tr>\n",
       "      <th>0</th>\n",
       "      <td>4.217326</td>\n",
       "      <td>6.061376</td>\n",
       "      <td>0</td>\n",
       "    </tr>\n",
       "    <tr>\n",
       "      <th>1</th>\n",
       "      <td>-2.877238</td>\n",
       "      <td>5.083015</td>\n",
       "      <td>0</td>\n",
       "    </tr>\n",
       "    <tr>\n",
       "      <th>2</th>\n",
       "      <td>5.346476</td>\n",
       "      <td>2.618835</td>\n",
       "      <td>3</td>\n",
       "    </tr>\n",
       "    <tr>\n",
       "      <th>3</th>\n",
       "      <td>-2.295275</td>\n",
       "      <td>2.585471</td>\n",
       "      <td>2</td>\n",
       "    </tr>\n",
       "    <tr>\n",
       "      <th>4</th>\n",
       "      <td>-3.250681</td>\n",
       "      <td>2.873499</td>\n",
       "      <td>3</td>\n",
       "    </tr>\n",
       "  </tbody>\n",
       "</table>\n",
       "</div>"
      ],
      "text/plain": [
       "          X         Y  label\n",
       "0  4.217326  6.061376      0\n",
       "1 -2.877238  5.083015      0\n",
       "2  5.346476  2.618835      3\n",
       "3 -2.295275  2.585471      2\n",
       "4 -3.250681  2.873499      3"
      ]
     },
     "execution_count": 77,
     "metadata": {},
     "output_type": "execute_result"
    }
   ],
   "source": [
    "# 특성 스케일을 [0, 1] 범위로 조정합니다.\n",
    "X_scaled = MinMaxScaler().fit_transform(X_train)\n",
    "\n",
    "# UMAP 객체를 생성하고 훈련합니다.\n",
    "mapper = UMAP(n_components=2, metric='cosine').fit(X_scaled)\n",
    "\n",
    "# 2D 임베딩의 데이터 프레임을 만듭니다.\n",
    "df_emb = pd.DataFrame(mapper.embedding_, columns=['X', 'Y'])\n",
    "df_emb['label'] = y_train\n",
    "df_emb.head()"
   ]
  },
  {
   "cell_type": "code",
   "execution_count": 78,
   "id": "4066776f-56a6-423f-a60c-debcdb0d7424",
   "metadata": {},
   "outputs": [
    {
     "data": {
      "image/png": "[encoded data removed]",
      "text/plain": [
       "<Figure size 700x500 with 6 Axes>"
      ]
     },
     "metadata": {},
     "output_type": "display_data"
    }
   ],
   "source": [
    "fig, axes = plt.subplots(2, 3, figsize=(7, 5))\n",
    "axes = axes.flatten()\n",
    "cmaps = ['Greys', 'Blues', 'Oranges', 'Reds', 'Purples', 'Greens']\n",
    "labels = emotions['train'].features['label'].names\n",
    "\n",
    "for i, (label, cmap) in enumerate(zip(labels, cmaps)):\n",
    "    df_emb_sub = df_emb.query(f'label == {i}')\n",
    "    axes[i].hexbin(df_emb_sub['X'], df_emb_sub['Y'], cmap=cmap,\n",
    "                   gridsize=20, linewidths=(0,))\n",
    "    axes[i].set_title(label)\n",
    "    axes[i].set_xticks([])\n",
    "    axes[i].set_yticks([])\n",
    "    \n",
    "plt.tight_layout()\n",
    "plt.show()"
   ]
  },
  {
   "cell_type": "markdown",
   "id": "22939c7c-a642-4f08-8564-0dbcc1b36350",
   "metadata": {},
   "source": [
    "> 이 그림은 단지 저차원 공간으로 투영한 것임<br>일부 범주가 중첩됐다고 원본 공간에서 분리할 수 없는 것은 아님<br>이와 반대로 투영 공간에서 분리할 수 있다면 원본 공간에서도 분리할 수 있음"
   ]
  },
  {
   "cell_type": "markdown",
   "id": "b792996f-e4a6-4301-9398-26b0ccddba48",
   "metadata": {},
   "source": [
    "그래프에서 확실한 패턴이 보임\n",
    "\n",
    "sadness, anger, fear 같은 부정적인 감정은 조금씩 다르게 분포됐지만 차지한 영역이 모두 비슷\n",
    "\n",
    "반면 joy, love 는 부정적인 감정과 잘 분리되고 비슷한 영역을 차지함\n",
    "\n",
    "마지막으로 surprise 는 영역 전체에 골고루 퍼져 있음\n",
    "\n",
    "약간 분리되기를 원했지만, 모델은 감정의 차이를 구분하도록 훈련되지 않고 텍스트에서 마스킹 된 단어를 추측해 암묵적으로 감정을 학습했을 뿐임"
   ]
  },
  {
   "cell_type": "markdown",
   "id": "359eedc7-76a6-40d9-896b-e12c6ac1e888",
   "metadata": {},
   "source": [
    "#### 간단한 분류 모델 훈련하기"
   ]
  },
  {
   "cell_type": "code",
   "execution_count": 79,
   "id": "0260b078-cca9-4ae3-89ae-905f0858bc15",
   "metadata": {},
   "outputs": [],
   "source": [
    "from sklearn.linear_model import LogisticRegression"
   ]
  },
  {
   "cell_type": "code",
   "execution_count": 80,
   "id": "8e7f9f14-835e-47a7-be6b-f3c7359ae241",
   "metadata": {},
   "outputs": [
    {
     "data": {
      "text/plain": [
       "0.633"
      ]
     },
     "execution_count": 80,
     "metadata": {},
     "output_type": "execute_result"
    }
   ],
   "source": [
    "# 수렴을 보정하기 위해 'max_iter'를 증가시킴\n",
    "lr_clf = LogisticRegression(max_iter=3000)\n",
    "lr_clf.fit(X_train, y_train)\n",
    "lr_clf.score(X_valid, y_valid)"
   ]
  },
  {
   "cell_type": "code",
   "execution_count": 81,
   "id": "1d21f5dd-5ebc-4c29-814f-4f1e7ee7a753",
   "metadata": {},
   "outputs": [],
   "source": [
    "from sklearn.dummy import DummyClassifier"
   ]
  },
  {
   "cell_type": "code",
   "execution_count": 83,
   "id": "3dbaa48a-9763-4b9a-9758-c0c937f1e920",
   "metadata": {},
   "outputs": [
    {
     "data": {
      "text/plain": [
       "0.352"
      ]
     },
     "execution_count": 83,
     "metadata": {},
     "output_type": "execute_result"
    }
   ],
   "source": [
    "dummy_clf = DummyClassifier(strategy='most_frequent')\n",
    "dummy_clf.fit(X_train, y_train)\n",
    "dummy_clf.score(X_valid, y_valid)"
   ]
  },
  {
   "cell_type": "code",
   "execution_count": 84,
   "id": "fd3e4a56-bca1-4899-9a26-5af6d72b9724",
   "metadata": {},
   "outputs": [],
   "source": [
    "from sklearn.metrics import ConfusionMatrixDisplay, confusion_matrix"
   ]
  },
  {
   "cell_type": "code",
   "execution_count": 85,
   "id": "91ab386a-e711-4ce0-8928-4e46bd7a8744",
   "metadata": {},
   "outputs": [],
   "source": [
    "def plot_confusion_matrix(y_preds, y_true, labels):\n",
    "    cm = confusion_matrix(y_true, y_preds, normalize='true')\n",
    "    fig, ax = plt.subplots(figsize=(6, 6))\n",
    "    disp = ConfusionMatrixDisplay(confusion_matrix=cm, display_labels=labels)\n",
    "    disp.plot(cmap='Blues', values_format='.2f', ax=ax, colorbar=False)\n",
    "    plt.title('Normalized confusion matrix')\n",
    "    plt.show()"
   ]
  },
  {
   "cell_type": "code",
   "execution_count": 86,
   "id": "7a6376f1-3a64-4c07-8552-dad42eca2928",
   "metadata": {},
   "outputs": [
    {
     "data": {
      "image/png": "[encoded data removed]",
      "text/plain": [
       "<Figure size 600x600 with 1 Axes>"
      ]
     },
     "metadata": {},
     "output_type": "display_data"
    }
   ],
   "source": [
    "y_preds = lr_clf.predict(X_valid)\n",
    "plot_confusion_matrix(y_preds, y_valid, labels)"
   ]
  },
  {
   "cell_type": "markdown",
   "id": "4e69453a-a740-4fc2-aa22-c0635c4da832",
   "metadata": {},
   "source": [
    "anger 와 fear 는 sadness 와 가장 많이 혼동됨\n",
    "\n",
    "이는 임베딩을 시각화했을 때와 일치함\n",
    "\n",
    "love 와 surprise 는 joy 로 많이 오인됨"
   ]
  },
  {
   "cell_type": "markdown",
   "id": "50f68e73-5ca0-4118-8303-a44f51dcb5ae",
   "metadata": {},
   "source": [
    "### 2.3.2 트랜스포머 미세 튜닝하기"
   ]
  },
  {
   "cell_type": "markdown",
   "id": "3e4add77-8df6-4e09-889c-ddc476ae7657",
   "metadata": {},
   "source": [
    "#### 사전 훈련된 모델 로드하기"
   ]
  },
  {
   "cell_type": "code",
   "execution_count": 87,
   "id": "d8a3e5cb-3926-41fb-aa17-27f409dd75fa",
   "metadata": {},
   "outputs": [],
   "source": [
    "from transformers import AutoModelForSequenceClassification"
   ]
  },
  {
   "cell_type": "code",
   "execution_count": 109,
   "id": "47f5454d-c7f8-4cc6-b15e-0e4327c14a21",
   "metadata": {},
   "outputs": [],
   "source": [
    "num_labels = 6\n",
    "model = (AutoModelForSequenceClassification\n",
    "         .from_pretrained(model_ckpt, num_labels=num_labels)\n",
    "         .to(device))"
   ]
  },
  {
   "cell_type": "markdown",
   "id": "e69950be-6bb3-4005-a5af-301081943827",
   "metadata": {},
   "source": [
    "#### 성공 지표 정의하기"
   ]
  },
  {
   "cell_type": "code",
   "execution_count": 110,
   "id": "e18cde6d-a578-4940-b484-4ea947e42321",
   "metadata": {},
   "outputs": [],
   "source": [
    "from sklearn.metrics import accuracy_score, f1_score"
   ]
  },
  {
   "cell_type": "code",
   "execution_count": 111,
   "id": "c5b486f7-7469-453b-8d9f-ab353efc7716",
   "metadata": {},
   "outputs": [],
   "source": [
    "def compute_metrics(pred):\n",
    "    labels = pred.label_ids\n",
    "    preds = pred.predictions.argmax(-1)\n",
    "    f1 = f1_score(labels, preds, average='weighted')\n",
    "    acc = accuracy_score(labels, preds)\n",
    "    return {'accuracy': acc, 'f1': f1}"
   ]
  },
  {
   "cell_type": "markdown",
   "id": "2a4f4e37-a6b3-4838-a53d-b8172e9b9571",
   "metadata": {},
   "source": [
    "#### 모델 훈련하기"
   ]
  },
  {
   "cell_type": "code",
   "execution_count": 112,
   "id": "c2353a76-2545-45ad-9886-f3ba4c03c3a6",
   "metadata": {},
   "outputs": [],
   "source": [
    "from huggingface_hub import notebook_login"
   ]
  },
  {
   "cell_type": "code",
   "execution_count": 113,
   "id": "32276a0e-6e8d-4a16-a224-60ffd5aab63b",
   "metadata": {},
   "outputs": [
    {
     "data": {
      "application/vnd.jupyter.widget-view+json": {
       "model_id": "20e8c68779e14752a27b15fdc42b999a",
       "version_major": 2,
       "version_minor": 0
      },
      "text/plain": [
       "VBox(children=(HTML(value='<center> <img\\nsrc=https://huggingface.co/front/assets/huggingface_logo-noborder.sv…"
      ]
     },
     "metadata": {},
     "output_type": "display_data"
    }
   ],
   "source": [
    "notebook_login()"
   ]
  },
  {
   "cell_type": "markdown",
   "id": "29cf6d75-6dc2-4778-883b-ba7937fbbe5d",
   "metadata": {},
   "source": [
    "액세스 토큰을 만드는 방법은 허브 문서(https://oreil.ly/IRkN1) 를 참고"
   ]
  },
  {
   "cell_type": "code",
   "execution_count": 114,
   "id": "f8e11bbc-8572-407a-b3e0-fb5fcbec1b9f",
   "metadata": {},
   "outputs": [],
   "source": [
    "from transformers import Trainer, TrainingArguments"
   ]
  },
  {
   "cell_type": "code",
   "execution_count": 115,
   "id": "a4455b72-d479-4040-a2cf-972b2a571213",
   "metadata": {},
   "outputs": [],
   "source": [
    "batch_size = 64\n",
    "logging_steps = len(emotion_encoded['train']) // batch_size\n",
    "model_name = f'{model_ckpt}-finetuned_emotion'\n",
    "training_args = TrainingArguments(output_dir=model_name,\n",
    "                                  num_train_epochs=2,\n",
    "                                  learning_rate=2e-5,\n",
    "                                  per_device_train_batch_size=batch_size,\n",
    "                                  per_device_eval_batch_size=batch_size,\n",
    "                                  weight_decay=0.01,\n",
    "                                  evaluation_strategy='epoch',\n",
    "                                  disable_tqdm=False,\n",
    "                                  logging_steps=logging_steps,\n",
    "                                  push_to_hub=True,\n",
    "                                  save_strategy='epoch',\n",
    "                                  load_best_model_at_end=True,\n",
    "                                  log_level='error')"
   ]
  },
  {
   "cell_type": "code",
   "execution_count": 116,
   "id": "4f885bb5-2953-47af-8498-56e5872c3fb7",
   "metadata": {},
   "outputs": [],
   "source": [
    "import os\n",
    "os.environ[\"TOKENIZERS_PARALLELISM\"] = \"false\""
   ]
  },
  {
   "cell_type": "code",
   "execution_count": 117,
   "id": "1822b4db-bfc0-4a6e-93aa-8cd963f084bd",
   "metadata": {},
   "outputs": [],
   "source": [
    "from transformers import Trainer"
   ]
  },
  {
   "cell_type": "code",
   "execution_count": 118,
   "id": "ca40b683-b15a-4ebc-a0ea-00e10f129f7f",
   "metadata": {},
   "outputs": [
    {
     "name": "stderr",
     "output_type": "stream",
     "text": [
      "/data/heerak/workspace/nlp-with-transformers/distilbert-base-uncased-finetuned_emotion is already a clone of https://huggingface.co/Heerak/distilbert-base-uncased-finetuned_emotion. Make sure you pull the latest changes with `repo.git_pull()`.\n",
      "/data/heerak/workspace/venv3.8/lib/python3.8/site-packages/torch/nn/parallel/_functions.py:68: UserWarning: Was asked to gather along dimension 0, but all input tensors were scalars; will instead unsqueeze and return a vector.\n",
      "  warnings.warn('Was asked to gather along dimension 0, but all '\n"
     ]
    },
    {
     "data": {
      "text/html": [
       "\n",
       "    <div>\n",
       "      \n",
       "      <progress value='250' max='250' style='width:300px; height:20px; vertical-align: middle;'></progress>\n",
       "      [250/250 02:12, Epoch 2/2]\n",
       "    </div>\n",
       "    <table border=\"1\" class=\"dataframe\">\n",
       "  <thead>\n",
       "    <tr style=\"text-align: left;\">\n",
       "      <th>Epoch</th>\n",
       "      <th>Training Loss</th>\n",
       "      <th>Validation Loss</th>\n",
       "      <th>Accuracy</th>\n",
       "      <th>F1</th>\n",
       "    </tr>\n",
       "  </thead>\n",
       "  <tbody>\n",
       "    <tr>\n",
       "      <td>1</td>\n",
       "      <td>No log</td>\n",
       "      <td>0.648743</td>\n",
       "      <td>0.787500</td>\n",
       "      <td>0.754665</td>\n",
       "    </tr>\n",
       "    <tr>\n",
       "      <td>2</td>\n",
       "      <td>0.827100</td>\n",
       "      <td>0.391588</td>\n",
       "      <td>0.886000</td>\n",
       "      <td>0.881785</td>\n",
       "    </tr>\n",
       "  </tbody>\n",
       "</table><p>"
      ],
      "text/plain": [
       "<IPython.core.display.HTML object>"
      ]
     },
     "metadata": {},
     "output_type": "display_data"
    },
    {
     "name": "stderr",
     "output_type": "stream",
     "text": [
      "Several commits (3) will be pushed upstream.\n",
      "/data/heerak/workspace/venv3.8/lib/python3.8/site-packages/torch/nn/parallel/_functions.py:68: UserWarning: Was asked to gather along dimension 0, but all input tensors were scalars; will instead unsqueeze and return a vector.\n",
      "  warnings.warn('Was asked to gather along dimension 0, but all '\n"
     ]
    },
    {
     "data": {
      "text/plain": [
       "TrainOutput(global_step=250, training_loss=0.8271158447265625, metrics={'train_runtime': 132.913, 'train_samples_per_second': 240.759, 'train_steps_per_second': 1.881, 'total_flos': 720342861696000.0, 'train_loss': 0.8271158447265625, 'epoch': 2.0})"
      ]
     },
     "execution_count": 118,
     "metadata": {},
     "output_type": "execute_result"
    }
   ],
   "source": [
    "trainer = Trainer(model=model,\n",
    "                  args=training_args,\n",
    "                  compute_metrics=compute_metrics,\n",
    "                  train_dataset=emotion_encoded['train'],\n",
    "                  eval_dataset=emotion_encoded['validation'],\n",
    "                  tokenizer=tokenizer)\n",
    "trainer.train()"
   ]
  },
  {
   "cell_type": "code",
   "execution_count": 120,
   "id": "3d7f6cd0-f097-413d-81b8-f517ab2c3c30",
   "metadata": {},
   "outputs": [
    {
     "name": "stderr",
     "output_type": "stream",
     "text": [
      "/data/heerak/workspace/venv3.8/lib/python3.8/site-packages/torch/nn/parallel/_functions.py:68: UserWarning: Was asked to gather along dimension 0, but all input tensors were scalars; will instead unsqueeze and return a vector.\n",
      "  warnings.warn('Was asked to gather along dimension 0, but all '\n"
     ]
    },
    {
     "data": {
      "text/html": [
       "\n",
       "    <div>\n",
       "      \n",
       "      <progress value='16' max='16' style='width:300px; height:20px; vertical-align: middle;'></progress>\n",
       "      [16/16 00:02]\n",
       "    </div>\n",
       "    "
      ],
      "text/plain": [
       "<IPython.core.display.HTML object>"
      ]
     },
     "metadata": {},
     "output_type": "display_data"
    }
   ],
   "source": [
    "preds_output = trainer.predict(emotion_encoded['validation'])"
   ]
  },
  {
   "cell_type": "code",
   "execution_count": 121,
   "id": "47837ac0-c119-40b2-84df-db47a306f0e0",
   "metadata": {},
   "outputs": [
    {
     "data": {
      "text/plain": [
       "{'test_loss': 0.3915884792804718,\n",
       " 'test_accuracy': 0.886,\n",
       " 'test_f1': 0.8817854316546611,\n",
       " 'test_runtime': 3.0468,\n",
       " 'test_samples_per_second': 656.436,\n",
       " 'test_steps_per_second': 5.251}"
      ]
     },
     "execution_count": 121,
     "metadata": {},
     "output_type": "execute_result"
    }
   ],
   "source": [
    "preds_output.metrics"
   ]
  },
  {
   "cell_type": "code",
   "execution_count": 124,
   "id": "e19c5a0d-0ade-4818-b303-45c37457a6af",
   "metadata": {},
   "outputs": [
    {
     "data": {
      "text/plain": [
       "PredictionOutput(predictions=array([[ 3.5688977 , -0.45411325, -0.9749048 , -0.34624732, -0.47928306,\n",
       "        -1.324179  ],\n",
       "       [ 3.5214398 , -0.8115829 , -1.435168  , -0.22606054,  0.0185706 ,\n",
       "        -1.1881    ],\n",
       "       [-1.0433468 ,  2.0903785 ,  1.9144197 , -1.0969286 , -1.6284221 ,\n",
       "        -0.9604809 ],\n",
       "       ...,\n",
       "       [-1.1188892 ,  3.561769  ,  0.7679488 , -1.6019881 , -1.518829  ,\n",
       "        -0.6906873 ],\n",
       "       [-1.4941018 ,  1.9391283 ,  2.1055446 , -1.4734963 , -1.3823566 ,\n",
       "        -0.59736294],\n",
       "       [-1.2983265 ,  3.6340914 ,  0.73770696, -1.4110942 , -1.5742164 ,\n",
       "        -0.47808853]], dtype=float32), label_ids=array([0, 0, 2, ..., 1, 1, 1]), metrics={'test_loss': 0.3915884792804718, 'test_accuracy': 0.886, 'test_f1': 0.8817854316546611, 'test_runtime': 3.0468, 'test_samples_per_second': 656.436, 'test_steps_per_second': 5.251})"
      ]
     },
     "execution_count": 124,
     "metadata": {},
     "output_type": "execute_result"
    }
   ],
   "source": [
    "preds_output"
   ]
  },
  {
   "cell_type": "code",
   "execution_count": 125,
   "id": "51321767-7c59-4cab-83f5-7b6273948c62",
   "metadata": {},
   "outputs": [],
   "source": [
    "y_preds = np.argmax(preds_output.predictions, axis=1)"
   ]
  },
  {
   "cell_type": "code",
   "execution_count": 126,
   "id": "9ae0a60e-b347-4a74-a570-4c9577d7225e",
   "metadata": {},
   "outputs": [
    {
     "data": {
      "text/plain": [
       "array([0, 0, 1, ..., 1, 2, 1])"
      ]
     },
     "execution_count": 126,
     "metadata": {},
     "output_type": "execute_result"
    }
   ],
   "source": [
    "y_preds"
   ]
  },
  {
   "cell_type": "code",
   "execution_count": 127,
   "id": "e48488fd-d2cd-469c-b460-abafb6de2ea7",
   "metadata": {},
   "outputs": [
    {
     "data": {
      "image/png": "[encoded data removed]",
      "text/plain": [
       "<Figure size 600x600 with 1 Axes>"
      ]
     },
     "metadata": {},
     "output_type": "display_data"
    }
   ],
   "source": [
    "plot_confusion_matrix(y_preds, y_valid, labels)"
   ]
  },
  {
   "cell_type": "markdown",
   "id": "717233e8-c8f2-4df3-b85e-fc97708e2d08",
   "metadata": {},
   "source": [
    "#### 케라스로 미세 튜닝하기"
   ]
  },
  {
   "cell_type": "markdown",
   "id": "03cc9b73-a65e-4c55-9393-bdf079c33cfb",
   "metadata": {},
   "source": [
    "```\n",
    "from transformers import TFAutoModelForSequenceClassification\n",
    "\n",
    "tf_model = (TFAutoModelForSequenceClassification\n",
    "            .from_pretrained(model_ckpt, num_labels=num_labels))\n",
    "\n",
    "# 텐서플로 텐서로 변환할 열 이름\n",
    "tokenizer_columns = tokenizer.model_input_names\n",
    "\n",
    "tf_train_dataset = emotion_encoded['train'].to_tf_dataset(\n",
    "    columns=tokenizer_columns,\n",
    "    label_cols=['label'],\n",
    "    shuffle=True,\n",
    "    batch_size=batch_size,\n",
    ")\n",
    "tf_eval_dataset = emotion_encoded['validation'].to_tf_dataset(\n",
    "    columns=tokenizer_columns,\n",
    "    label_cols=['label'],\n",
    "    shuffle=False,\n",
    "    batch_size=batch_size,\n",
    ")\n",
    "\n",
    "import tensorflow as tf\n",
    "\n",
    "tf_model.compile(\n",
    "    optimizer=tf.keras.optimizers.Adam(learning_rate=5e-5),\n",
    "    loss=tf.keras.losses.SparseCategoricalCrossentropy(from_logits=True),\n",
    "    metrics=tf.metrics.SparseCategoricalAccuracy(),\n",
    ")\n",
    "\n",
    "tf_model.fit(tf_train_dataset, validation_data=tf_eval_dataset, epochs=2)\n",
    "```"
   ]
  },
  {
   "cell_type": "markdown",
   "id": "b301770d-81b6-45b4-965f-0f7c62386836",
   "metadata": {},
   "source": [
    "#### 오류 분석"
   ]
  },
  {
   "cell_type": "code",
   "execution_count": 128,
   "id": "63e5920c-8273-4969-b53c-fa7ed9216a8c",
   "metadata": {},
   "outputs": [],
   "source": [
    "from torch.nn.functional import cross_entropy"
   ]
  },
  {
   "cell_type": "code",
   "execution_count": 133,
   "id": "37f99e24-53f1-4a8e-a2fd-3886114c0cd8",
   "metadata": {},
   "outputs": [],
   "source": [
    "def forward_pass_with_label(batch):\n",
    "    # 모든 입력 텐서를 모델과 같은 장치로 이동시킵니다.\n",
    "    inputs = {k: v.to(device) for k, v in batch.items()\n",
    "              if k in tokenizer.model_input_names}\n",
    "    \n",
    "    with torch.no_grad():\n",
    "        output = model(**inputs)\n",
    "        pred_label = torch.argmax(output.logits, axis=-1)\n",
    "        loss = cross_entropy(output.logits, batch['label'].to(device),\n",
    "                             reduction='none')\n",
    "        \n",
    "    # 다른 데이터셋 열과 호환되도록 출력을 CPU로 옮깁니다.\n",
    "    return {'loss': loss.cpu().numpy(),\n",
    "            'predicted_label': pred_label.cpu().numpy()}"
   ]
  },
  {
   "cell_type": "code",
   "execution_count": 134,
   "id": "9b8ec552-04b6-43a0-af0c-400fd750061b",
   "metadata": {},
   "outputs": [
    {
     "data": {
      "application/vnd.jupyter.widget-view+json": {
       "model_id": "c20c0b51b44e482baae16db922369dd2",
       "version_major": 2,
       "version_minor": 0
      },
      "text/plain": [
       "  0%|          | 0/125 [00:00<?, ?ba/s]"
      ]
     },
     "metadata": {},
     "output_type": "display_data"
    }
   ],
   "source": [
    "# 데이터셋을 다시 파이토치 텐서로 변환합니다.\n",
    "emotion_encoded.set_format('torch',\n",
    "                           columns=['input_ids', 'attention_mask', 'label'])\n",
    "\n",
    "# 손실 값을 계산합니다.\n",
    "emotion_encoded['validation'] = emotion_encoded['validation'].map(\n",
    "    forward_pass_with_label, batched=True, batch_size=16)"
   ]
  },
  {
   "cell_type": "code",
   "execution_count": 136,
   "id": "49a8a874-eb79-4c41-b96e-c76c697ac65f",
   "metadata": {},
   "outputs": [],
   "source": [
    "emotion_encoded.set_format('pandas')\n",
    "cols = ['text', 'label', 'predicted_label', 'loss']\n",
    "df_test = emotion_encoded['validation'][:][cols]\n",
    "df_test['label'] = df_test['label'].apply(label_int2str)\n",
    "df_test['predicted_label'] = (df_test['predicted_label']\n",
    "                              .apply(label_int2str))"
   ]
  },
  {
   "cell_type": "code",
   "execution_count": 138,
   "id": "92b605e4-8492-45b9-8a82-acb950b08717",
   "metadata": {},
   "outputs": [
    {
     "data": {
      "text/html": [
       "<div>\n",
       "<style scoped>\n",
       "    .dataframe tbody tr th:only-of-type {\n",
       "        vertical-align: middle;\n",
       "    }\n",
       "\n",
       "    .dataframe tbody tr th {\n",
       "        vertical-align: top;\n",
       "    }\n",
       "\n",
       "    .dataframe thead th {\n",
       "        text-align: right;\n",
       "    }\n",
       "</style>\n",
       "<table border=\"1\" class=\"dataframe\">\n",
       "  <thead>\n",
       "    <tr style=\"text-align: right;\">\n",
       "      <th></th>\n",
       "      <th>text</th>\n",
       "      <th>label</th>\n",
       "      <th>predicted_label</th>\n",
       "      <th>loss</th>\n",
       "    </tr>\n",
       "  </thead>\n",
       "  <tbody>\n",
       "    <tr>\n",
       "      <th>0</th>\n",
       "      <td>im feeling quite sad and sorry for myself but ...</td>\n",
       "      <td>sadness</td>\n",
       "      <td>sadness</td>\n",
       "      <td>0.070852</td>\n",
       "    </tr>\n",
       "    <tr>\n",
       "      <th>1</th>\n",
       "      <td>i feel like i am still looking at a blank canv...</td>\n",
       "      <td>sadness</td>\n",
       "      <td>sadness</td>\n",
       "      <td>0.079607</td>\n",
       "    </tr>\n",
       "    <tr>\n",
       "      <th>2</th>\n",
       "      <td>i feel like a faithful servant</td>\n",
       "      <td>love</td>\n",
       "      <td>joy</td>\n",
       "      <td>0.866640</td>\n",
       "    </tr>\n",
       "    <tr>\n",
       "      <th>3</th>\n",
       "      <td>i am just feeling cranky and blue</td>\n",
       "      <td>anger</td>\n",
       "      <td>anger</td>\n",
       "      <td>0.151023</td>\n",
       "    </tr>\n",
       "    <tr>\n",
       "      <th>4</th>\n",
       "      <td>i can have for a treat or if i am feeling festive</td>\n",
       "      <td>joy</td>\n",
       "      <td>joy</td>\n",
       "      <td>0.058056</td>\n",
       "    </tr>\n",
       "  </tbody>\n",
       "</table>\n",
       "</div>"
      ],
      "text/plain": [
       "                                                text    label predicted_label  \\\n",
       "0  im feeling quite sad and sorry for myself but ...  sadness         sadness   \n",
       "1  i feel like i am still looking at a blank canv...  sadness         sadness   \n",
       "2                     i feel like a faithful servant     love             joy   \n",
       "3                  i am just feeling cranky and blue    anger           anger   \n",
       "4  i can have for a treat or if i am feeling festive      joy             joy   \n",
       "\n",
       "       loss  \n",
       "0  0.070852  \n",
       "1  0.079607  \n",
       "2  0.866640  \n",
       "3  0.151023  \n",
       "4  0.058056  "
      ]
     },
     "execution_count": 138,
     "metadata": {},
     "output_type": "execute_result"
    }
   ],
   "source": [
    "df_test.head()"
   ]
  },
  {
   "cell_type": "markdown",
   "id": "f9a68b2b-d5e6-47ab-9538-d6b5cbc56fb8",
   "metadata": {},
   "source": [
    "##### 잘못된 레이블"
   ]
  },
  {
   "cell_type": "markdown",
   "id": "d1f686b1-babe-47e1-b380-acca6f78dbe4",
   "metadata": {},
   "source": [
    "##### 데이터셋의 특이사항"
   ]
  },
  {
   "cell_type": "code",
   "execution_count": 139,
   "id": "ac2e1395-8984-450e-91fd-033be1a813e8",
   "metadata": {},
   "outputs": [
    {
     "data": {
      "text/html": [
       "<div>\n",
       "<style scoped>\n",
       "    .dataframe tbody tr th:only-of-type {\n",
       "        vertical-align: middle;\n",
       "    }\n",
       "\n",
       "    .dataframe tbody tr th {\n",
       "        vertical-align: top;\n",
       "    }\n",
       "\n",
       "    .dataframe thead th {\n",
       "        text-align: right;\n",
       "    }\n",
       "</style>\n",
       "<table border=\"1\" class=\"dataframe\">\n",
       "  <thead>\n",
       "    <tr style=\"text-align: right;\">\n",
       "      <th></th>\n",
       "      <th>text</th>\n",
       "      <th>label</th>\n",
       "      <th>predicted_label</th>\n",
       "      <th>loss</th>\n",
       "    </tr>\n",
       "  </thead>\n",
       "  <tbody>\n",
       "    <tr>\n",
       "      <th>1801</th>\n",
       "      <td>i feel that he was being overshadowed by the s...</td>\n",
       "      <td>love</td>\n",
       "      <td>sadness</td>\n",
       "      <td>4.758586</td>\n",
       "    </tr>\n",
       "    <tr>\n",
       "      <th>882</th>\n",
       "      <td>i feel badly about reneging on my commitment t...</td>\n",
       "      <td>love</td>\n",
       "      <td>sadness</td>\n",
       "      <td>4.745262</td>\n",
       "    </tr>\n",
       "    <tr>\n",
       "      <th>1963</th>\n",
       "      <td>i called myself pro life and voted for perry w...</td>\n",
       "      <td>joy</td>\n",
       "      <td>sadness</td>\n",
       "      <td>4.425622</td>\n",
       "    </tr>\n",
       "    <tr>\n",
       "      <th>1950</th>\n",
       "      <td>i as representative of everything thats wrong ...</td>\n",
       "      <td>surprise</td>\n",
       "      <td>sadness</td>\n",
       "      <td>4.402074</td>\n",
       "    </tr>\n",
       "    <tr>\n",
       "      <th>465</th>\n",
       "      <td>i would eventually go in to these stores but i...</td>\n",
       "      <td>joy</td>\n",
       "      <td>fear</td>\n",
       "      <td>4.339877</td>\n",
       "    </tr>\n",
       "    <tr>\n",
       "      <th>1870</th>\n",
       "      <td>i guess i feel betrayed because i admired him ...</td>\n",
       "      <td>joy</td>\n",
       "      <td>sadness</td>\n",
       "      <td>4.295238</td>\n",
       "    </tr>\n",
       "    <tr>\n",
       "      <th>1274</th>\n",
       "      <td>i am going to several holiday parties and i ca...</td>\n",
       "      <td>joy</td>\n",
       "      <td>sadness</td>\n",
       "      <td>4.209935</td>\n",
       "    </tr>\n",
       "    <tr>\n",
       "      <th>765</th>\n",
       "      <td>i feel super awkward and out of place right now</td>\n",
       "      <td>joy</td>\n",
       "      <td>sadness</td>\n",
       "      <td>4.098799</td>\n",
       "    </tr>\n",
       "    <tr>\n",
       "      <th>1857</th>\n",
       "      <td>im going to be very honest with you it feels a...</td>\n",
       "      <td>surprise</td>\n",
       "      <td>joy</td>\n",
       "      <td>3.988478</td>\n",
       "    </tr>\n",
       "    <tr>\n",
       "      <th>1122</th>\n",
       "      <td>i feel so amazing about taking this trip as i ...</td>\n",
       "      <td>surprise</td>\n",
       "      <td>joy</td>\n",
       "      <td>3.976642</td>\n",
       "    </tr>\n",
       "  </tbody>\n",
       "</table>\n",
       "</div>"
      ],
      "text/plain": [
       "                                                   text     label  \\\n",
       "1801  i feel that he was being overshadowed by the s...      love   \n",
       "882   i feel badly about reneging on my commitment t...      love   \n",
       "1963  i called myself pro life and voted for perry w...       joy   \n",
       "1950  i as representative of everything thats wrong ...  surprise   \n",
       "465   i would eventually go in to these stores but i...       joy   \n",
       "1870  i guess i feel betrayed because i admired him ...       joy   \n",
       "1274  i am going to several holiday parties and i ca...       joy   \n",
       "765     i feel super awkward and out of place right now       joy   \n",
       "1857  im going to be very honest with you it feels a...  surprise   \n",
       "1122  i feel so amazing about taking this trip as i ...  surprise   \n",
       "\n",
       "     predicted_label      loss  \n",
       "1801         sadness  4.758586  \n",
       "882          sadness  4.745262  \n",
       "1963         sadness  4.425622  \n",
       "1950         sadness  4.402074  \n",
       "465             fear  4.339877  \n",
       "1870         sadness  4.295238  \n",
       "1274         sadness  4.209935  \n",
       "765          sadness  4.098799  \n",
       "1857             joy  3.988478  \n",
       "1122             joy  3.976642  "
      ]
     },
     "execution_count": 139,
     "metadata": {},
     "output_type": "execute_result"
    }
   ],
   "source": [
    "df_test.sort_values('loss', ascending=False).head(10)"
   ]
  },
  {
   "cell_type": "code",
   "execution_count": 140,
   "id": "02fe0b30-0119-48fe-af2c-e166c5687cc4",
   "metadata": {},
   "outputs": [
    {
     "data": {
      "text/html": [
       "<div>\n",
       "<style scoped>\n",
       "    .dataframe tbody tr th:only-of-type {\n",
       "        vertical-align: middle;\n",
       "    }\n",
       "\n",
       "    .dataframe tbody tr th {\n",
       "        vertical-align: top;\n",
       "    }\n",
       "\n",
       "    .dataframe thead th {\n",
       "        text-align: right;\n",
       "    }\n",
       "</style>\n",
       "<table border=\"1\" class=\"dataframe\">\n",
       "  <thead>\n",
       "    <tr style=\"text-align: right;\">\n",
       "      <th></th>\n",
       "      <th>text</th>\n",
       "      <th>label</th>\n",
       "      <th>predicted_label</th>\n",
       "      <th>loss</th>\n",
       "    </tr>\n",
       "  </thead>\n",
       "  <tbody>\n",
       "    <tr>\n",
       "      <th>1638</th>\n",
       "      <td>i feel like if you shop smart you can still ad...</td>\n",
       "      <td>joy</td>\n",
       "      <td>joy</td>\n",
       "      <td>0.050417</td>\n",
       "    </tr>\n",
       "    <tr>\n",
       "      <th>131</th>\n",
       "      <td>i feel like a graph doesnt show the data accur...</td>\n",
       "      <td>joy</td>\n",
       "      <td>joy</td>\n",
       "      <td>0.050570</td>\n",
       "    </tr>\n",
       "    <tr>\n",
       "      <th>941</th>\n",
       "      <td>i expected but it did feel hopeful and it defi...</td>\n",
       "      <td>joy</td>\n",
       "      <td>joy</td>\n",
       "      <td>0.050713</td>\n",
       "    </tr>\n",
       "    <tr>\n",
       "      <th>222</th>\n",
       "      <td>i am at day and i am feeling terrific</td>\n",
       "      <td>joy</td>\n",
       "      <td>joy</td>\n",
       "      <td>0.050732</td>\n",
       "    </tr>\n",
       "    <tr>\n",
       "      <th>578</th>\n",
       "      <td>i got to christmas feeling positive about the ...</td>\n",
       "      <td>joy</td>\n",
       "      <td>joy</td>\n",
       "      <td>0.050908</td>\n",
       "    </tr>\n",
       "    <tr>\n",
       "      <th>268</th>\n",
       "      <td>i did though and woke up feeling terrific</td>\n",
       "      <td>joy</td>\n",
       "      <td>joy</td>\n",
       "      <td>0.051237</td>\n",
       "    </tr>\n",
       "    <tr>\n",
       "      <th>1259</th>\n",
       "      <td>i feel terrific but won t hammer it home</td>\n",
       "      <td>joy</td>\n",
       "      <td>joy</td>\n",
       "      <td>0.051337</td>\n",
       "    </tr>\n",
       "    <tr>\n",
       "      <th>1184</th>\n",
       "      <td>im feeling quite optimistic but im still keepi...</td>\n",
       "      <td>joy</td>\n",
       "      <td>joy</td>\n",
       "      <td>0.051630</td>\n",
       "    </tr>\n",
       "    <tr>\n",
       "      <th>1511</th>\n",
       "      <td>i have to be overactive and stressed out to fe...</td>\n",
       "      <td>joy</td>\n",
       "      <td>joy</td>\n",
       "      <td>0.051785</td>\n",
       "    </tr>\n",
       "    <tr>\n",
       "      <th>229</th>\n",
       "      <td>i hope all of you epers feel terrific too</td>\n",
       "      <td>joy</td>\n",
       "      <td>joy</td>\n",
       "      <td>0.052075</td>\n",
       "    </tr>\n",
       "  </tbody>\n",
       "</table>\n",
       "</div>"
      ],
      "text/plain": [
       "                                                   text label predicted_label  \\\n",
       "1638  i feel like if you shop smart you can still ad...   joy             joy   \n",
       "131   i feel like a graph doesnt show the data accur...   joy             joy   \n",
       "941   i expected but it did feel hopeful and it defi...   joy             joy   \n",
       "222               i am at day and i am feeling terrific   joy             joy   \n",
       "578   i got to christmas feeling positive about the ...   joy             joy   \n",
       "268           i did though and woke up feeling terrific   joy             joy   \n",
       "1259           i feel terrific but won t hammer it home   joy             joy   \n",
       "1184  im feeling quite optimistic but im still keepi...   joy             joy   \n",
       "1511  i have to be overactive and stressed out to fe...   joy             joy   \n",
       "229           i hope all of you epers feel terrific too   joy             joy   \n",
       "\n",
       "          loss  \n",
       "1638  0.050417  \n",
       "131   0.050570  \n",
       "941   0.050713  \n",
       "222   0.050732  \n",
       "578   0.050908  \n",
       "268   0.051237  \n",
       "1259  0.051337  \n",
       "1184  0.051630  \n",
       "1511  0.051785  \n",
       "229   0.052075  "
      ]
     },
     "execution_count": 140,
     "metadata": {},
     "output_type": "execute_result"
    }
   ],
   "source": [
    "df_test.sort_values('loss', ascending=True).head(10)"
   ]
  },
  {
   "cell_type": "markdown",
   "id": "d2ad8a88-8939-4bcd-8949-4040e77d7168",
   "metadata": {},
   "source": [
    "#### 모델 저장 및 공유"
   ]
  },
  {
   "cell_type": "code",
   "execution_count": 141,
   "id": "4ca7935c-24fc-4d90-8ee2-dea7300bc398",
   "metadata": {},
   "outputs": [
    {
     "data": {
      "application/vnd.jupyter.widget-view+json": {
       "model_id": "5af51a58c38749c282bdd5b19dbc15de",
       "version_major": 2,
       "version_minor": 0
      },
      "text/plain": [
       "Upload file pytorch_model.bin:   0%|          | 4.00k/255M [00:00<?, ?B/s]"
      ]
     },
     "metadata": {},
     "output_type": "display_data"
    },
    {
     "data": {
      "application/vnd.jupyter.widget-view+json": {
       "model_id": "16697e25a0214ebfbd6db75d50416757",
       "version_major": 2,
       "version_minor": 0
      },
      "text/plain": [
       "Upload file runs/Jan06_18-51-34_k8s-master1/events.out.tfevents.1672998701.k8s-master1.19726.4:  88%|########8…"
      ]
     },
     "metadata": {},
     "output_type": "display_data"
    },
    {
     "name": "stderr",
     "output_type": "stream",
     "text": [
      "remote: Scanning LFS files for validity, may be slow...        \n",
      "remote: LFS file scan complete.        \n",
      "To https://huggingface.co/Heerak/distilbert-base-uncased-finetuned_emotion\n",
      "   99039f3..92de092  main -> main\n",
      "\n",
      "To https://huggingface.co/Heerak/distilbert-base-uncased-finetuned_emotion\n",
      "   92de092..15ed6b6  main -> main\n",
      "\n"
     ]
    },
    {
     "data": {
      "text/plain": [
       "'https://huggingface.co/Heerak/distilbert-base-uncased-finetuned_emotion/commit/92de092fb3a8873d93b0e021328018bcb79488ac'"
      ]
     },
     "execution_count": 141,
     "metadata": {},
     "output_type": "execute_result"
    }
   ],
   "source": [
    "trainer.push_to_hub(commit_message='Training completed!')"
   ]
  },
  {
   "cell_type": "code",
   "execution_count": 142,
   "id": "41bfdf97-22e2-40c1-8fa2-8358caa2f1d3",
   "metadata": {},
   "outputs": [],
   "source": [
    "from transformers import pipeline"
   ]
  },
  {
   "cell_type": "code",
   "execution_count": 143,
   "id": "6fe2e296-080b-409e-89aa-2a1f6d0b1041",
   "metadata": {},
   "outputs": [
    {
     "data": {
      "application/vnd.jupyter.widget-view+json": {
       "model_id": "678890785fc6448db0d87eb7f818e8a7",
       "version_major": 2,
       "version_minor": 0
      },
      "text/plain": [
       "Downloading:   0%|          | 0.00/883 [00:00<?, ?B/s]"
      ]
     },
     "metadata": {},
     "output_type": "display_data"
    },
    {
     "data": {
      "application/vnd.jupyter.widget-view+json": {
       "model_id": "e6fcc6e7295c45d1a2ad58eb38643974",
       "version_major": 2,
       "version_minor": 0
      },
      "text/plain": [
       "Downloading:   0%|          | 0.00/255M [00:00<?, ?B/s]"
      ]
     },
     "metadata": {},
     "output_type": "display_data"
    },
    {
     "data": {
      "application/vnd.jupyter.widget-view+json": {
       "model_id": "1acce363ee374d5e8412c5d21ef83f01",
       "version_major": 2,
       "version_minor": 0
      },
      "text/plain": [
       "Downloading:   0%|          | 0.00/333 [00:00<?, ?B/s]"
      ]
     },
     "metadata": {},
     "output_type": "display_data"
    },
    {
     "data": {
      "application/vnd.jupyter.widget-view+json": {
       "model_id": "67e742ad0209448d92c4ed15e4d7c084",
       "version_major": 2,
       "version_minor": 0
      },
      "text/plain": [
       "Downloading:   0%|          | 0.00/226k [00:00<?, ?B/s]"
      ]
     },
     "metadata": {},
     "output_type": "display_data"
    },
    {
     "data": {
      "application/vnd.jupyter.widget-view+json": {
       "model_id": "6fbf0e7b88764db189c151aba48e2065",
       "version_major": 2,
       "version_minor": 0
      },
      "text/plain": [
       "Downloading:   0%|          | 0.00/455k [00:00<?, ?B/s]"
      ]
     },
     "metadata": {},
     "output_type": "display_data"
    },
    {
     "data": {
      "application/vnd.jupyter.widget-view+json": {
       "model_id": "a90482cd93d54ea9b173daf8a765d981",
       "version_major": 2,
       "version_minor": 0
      },
      "text/plain": [
       "Downloading:   0%|          | 0.00/112 [00:00<?, ?B/s]"
      ]
     },
     "metadata": {},
     "output_type": "display_data"
    }
   ],
   "source": [
    "# `transformersbook` 을 자신의 허브 사용자 이름으로 바꾸세요.\n",
    "model_id = 'Heerak/distilbert-base-uncased-finetuned_emotion'\n",
    "classifier = pipeline('text-classification', model=model_id)"
   ]
  },
  {
   "cell_type": "code",
   "execution_count": 144,
   "id": "9e4f4df2-4a49-48c4-a5b5-8af6b9d54f06",
   "metadata": {},
   "outputs": [
    {
     "data": {
      "text/plain": [
       "[[{'label': 'LABEL_0', 'score': 0.024148572236299515},\n",
       "  {'label': 'LABEL_1', 'score': 0.9060227274894714},\n",
       "  {'label': 'LABEL_2', 'score': 0.03677782788872719},\n",
       "  {'label': 'LABEL_3', 'score': 0.010704896412789822},\n",
       "  {'label': 'LABEL_4', 'score': 0.008465621620416641},\n",
       "  {'label': 'LABEL_5', 'score': 0.013880334794521332}]]"
      ]
     },
     "execution_count": 144,
     "metadata": {},
     "output_type": "execute_result"
    }
   ],
   "source": [
    "custom_tweet = 'I saw a movie today and it was really good.'\n",
    "preds = classifier(custom_tweet, return_all_scores=True)\n",
    "preds"
   ]
  },
  {
   "cell_type": "code",
   "execution_count": 145,
   "id": "72db543a-4342-46bc-8166-c52e47a89aa1",
   "metadata": {},
   "outputs": [
    {
     "data": {
      "image/png": "[encoded data removed]",
      "text/plain": [
       "<Figure size 640x480 with 1 Axes>"
      ]
     },
     "metadata": {},
     "output_type": "display_data"
    }
   ],
   "source": [
    "preds_df = pd.DataFrame(preds[0])\n",
    "plt.bar(labels, 100 * preds_df['score'], color='C0')\n",
    "plt.title(f'\"{custom_tweet}\"')\n",
    "plt.ylabel('Class probability (%)')\n",
    "plt.show()"
   ]
  },
  {
   "cell_type": "code",
   "execution_count": null,
   "id": "ad3e1aaf-21b6-49f3-9fde-3fb653113229",
   "metadata": {},
   "outputs": [],
   "source": []
  }
 ],
 "metadata": {
  "kernelspec": {
   "display_name": "python3.8",
   "language": "python",
   "name": "python3.8"
  },
  "language_info": {
   "codemirror_mode": {
    "name": "ipython",
    "version": 3
   },
   "file_extension": ".py",
   "mimetype": "text/x-python",
   "name": "python",
   "nbconvert_exporter": "python",
   "pygments_lexer": "ipython3",
   "version": "3.8.16"
  }
 },
 "nbformat": 4,
 "nbformat_minor": 5
}
