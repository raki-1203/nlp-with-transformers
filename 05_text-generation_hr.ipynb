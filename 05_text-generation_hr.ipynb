{
 "cells": [
  {
   "cell_type": "markdown",
   "id": "c3768a2b-8bbe-44e8-baaa-4a4dbddf733f",
   "metadata": {},
   "source": [
    "# Chapter 5 텍스트 생성"
   ]
  },
  {
   "cell_type": "markdown",
   "id": "31f165bb-0f77-4f28-95b1-b88953ad182e",
   "metadata": {
    "id": "anXdAUF-cc_d"
   },
   "source": [
    "<img alt=\"LM Meta Learning\" width=\"800\" caption=\"During pretraining, language models are exposed to sequences of tasks that can be adapted during inference (courtesy of Tom B. Brown)\" src=\"https://github.com/rickiepark/nlp-with-transformers/blob/main/images/chapter05_lm-meta-learning.png?raw=1\" id=\"lm-meta-learning\"/>"
   ]
  },
  {
   "cell_type": "markdown",
   "id": "65650239-dfc1-4496-add7-76ef344e66a7",
   "metadata": {},
   "source": [
    "```\n",
    "사전 훈련 동안 언어 모델은 작업 시퀀스에 노출되고 이를 바탕으로 추론에 적용할 수 있음\n",
    "```"
   ]
  },
  {
   "cell_type": "markdown",
   "id": "4c7f41cf-e2cc-4a99-b113-3a85fc481d00",
   "metadata": {
    "id": "BCza8tCycc_d"
   },
   "source": [
    "<img alt=\"Meena\" width=\"300\" caption=\"Meena on the left telling a corny joke to a human on the right (courtesy of Daniel Adiwardana and Thang Luong)\" src=\"https://github.com/rickiepark/nlp-with-transformers/blob/main/images/chapter05_meena.png?raw=1\" id=\"meena\"/>"
   ]
  },
  {
   "cell_type": "markdown",
   "id": "0a75ffd7-a5dd-4e0d-a9c5-1c24c3693c69",
   "metadata": {},
   "source": [
    "```\n",
    "사람(오른쪽)에게 진부한 농담을 던지는 Meena(왼쪽)\n",
    "```"
   ]
  },
  {
   "cell_type": "markdown",
   "id": "cd613bcd-b2b1-48bd-b5dc-2cd32134fea1",
   "metadata": {},
   "source": [
    "## 5.1 일관성 있는 텍스트 생성의 어려움"
   ]
  },
  {
   "cell_type": "markdown",
   "id": "3cd9fa53-ef8d-4bde-9674-d2448020175e",
   "metadata": {},
   "source": [
    "```\n",
    "텍스트 생성에만 따르는 특수한 어려움\n",
    "```\n",
    "\n",
    "- 디코딩은 반복적으로 수행되므로 입력이 모델의 정방향 패스를 한 번 통과할 때보다 많은 계산이 필요함\n",
    "- 생성된 텍스트의 품질과 다양성은 디코딩 방법과 이에 관련된 하이퍼파라미터에 따라 달라짐"
   ]
  },
  {
   "cell_type": "markdown",
   "id": "cb418216-7b41-4562-bd77-4b2f6f4e9f03",
   "metadata": {
    "id": "aNMbth-dcc_e"
   },
   "source": [
    "<img alt=\"Text generation\" width=\"700\" caption=\"Generating text from an input sequence by adding a new word to the input at each step\" src=\"https://github.com/rickiepark/nlp-with-transformers/blob/main/images/chapter05_text-generation.png?raw=1\" id=\"text-generation\"/> "
   ]
  },
  {
   "cell_type": "markdown",
   "id": "bb7b8bff-5e2b-48b5-a207-a9a715be13dc",
   "metadata": {},
   "source": [
    "```\n",
    "스텝마다 새로운 단어를 입력 시퀀스에 추가해 텍스트 생성하기\n",
    "```\n",
    "\n",
    "> 출력 시퀀스가 입력 프롬프트에 따라 결정되므로 이런 종류의 텍스트 생성을 종종 조건부 텍스트 생성(conditional text generation)이라 함"
   ]
  },
  {
   "cell_type": "markdown",
   "id": "c4f7a193-b29c-4424-ac81-ba2cef1c5d66",
   "metadata": {},
   "source": [
    "## 5.2 그리디 서치 디코딩"
   ]
  },
  {
   "cell_type": "markdown",
   "id": "6c30c19f-b5ee-41fd-a998-9f2abe3544da",
   "metadata": {},
   "source": [
    "```\n",
    "연속적인 모델 출력에서 이산적인 토큰을 얻는 가장 간단한 디코딩 방법은 각 타임스텝에서 확률이 가장 높은 토큰을 탐욕적(greedily)으로 선택하는 것임\n",
    "```"
   ]
  },
  {
   "cell_type": "code",
   "execution_count": 1,
   "id": "eedd48a8-641a-405b-b3fd-cd9959da297b",
   "metadata": {},
   "outputs": [
    {
     "name": "stderr",
     "output_type": "stream",
     "text": [
      "2023-01-30 19:54:47.288097: I tensorflow/core/platform/cpu_feature_guard.cc:193] This TensorFlow binary is optimized with oneAPI Deep Neural Network Library (oneDNN) to use the following CPU instructions in performance-critical operations:  AVX2 FMA\n",
      "To enable them in other operations, rebuild TensorFlow with the appropriate compiler flags.\n",
      "2023-01-30 19:54:47.895019: W tensorflow/compiler/xla/stream_executor/platform/default/dso_loader.cc:64] Could not load dynamic library 'libnvinfer.so.7'; dlerror: libnvinfer.so.7: cannot open shared object file: No such file or directory; LD_LIBRARY_PATH: /usr/local/cuda/lib64:/usr/local/cuda/lib64:\n",
      "2023-01-30 19:54:47.895076: W tensorflow/compiler/xla/stream_executor/platform/default/dso_loader.cc:64] Could not load dynamic library 'libnvinfer_plugin.so.7'; dlerror: libnvinfer_plugin.so.7: cannot open shared object file: No such file or directory; LD_LIBRARY_PATH: /usr/local/cuda/lib64:/usr/local/cuda/lib64:\n",
      "2023-01-30 19:54:47.895082: W tensorflow/compiler/tf2tensorrt/utils/py_utils.cc:38] TF-TRT Warning: Cannot dlopen some TensorRT libraries. If you would like to use Nvidia GPU with TensorRT, please make sure the missing libraries mentioned above are installed properly.\n"
     ]
    }
   ],
   "source": [
    "import torch\n",
    "\n",
    "from transformers import AutoTokenizer, AutoModelForCausalLM"
   ]
  },
  {
   "cell_type": "code",
   "execution_count": 2,
   "id": "c3f0fa2b-ea79-42c2-84fa-2c8ea385569d",
   "metadata": {},
   "outputs": [],
   "source": [
    "import os\n",
    "\n",
    "os.environ[\"CUDA_DEVICE_ORDER\"]=\"PCI_BUS_ID\"  # Arrange GPU devices starting from 0\n",
    "os.environ[\"CUDA_VISIBLE_DEVICES\"]= \"0\"  # Set the GPU 2 to use"
   ]
  },
  {
   "cell_type": "code",
   "execution_count": 3,
   "id": "b05793a1-bf4c-4a7f-9469-d2ecc5caf61c",
   "metadata": {},
   "outputs": [
    {
     "data": {
      "application/vnd.jupyter.widget-view+json": {
       "model_id": "2ca42b5361c54fbcbb210838105848e4",
       "version_major": 2,
       "version_minor": 0
      },
      "text/plain": [
       "Downloading:   0%|          | 0.00/689 [00:00<?, ?B/s]"
      ]
     },
     "metadata": {},
     "output_type": "display_data"
    },
    {
     "data": {
      "application/vnd.jupyter.widget-view+json": {
       "model_id": "7ad6118f8f2d4f12a498ad1ca28cddb8",
       "version_major": 2,
       "version_minor": 0
      },
      "text/plain": [
       "Downloading:   0%|          | 0.00/0.99M [00:00<?, ?B/s]"
      ]
     },
     "metadata": {},
     "output_type": "display_data"
    },
    {
     "data": {
      "application/vnd.jupyter.widget-view+json": {
       "model_id": "f5214044980f4926b791176d6abd7cde",
       "version_major": 2,
       "version_minor": 0
      },
      "text/plain": [
       "Downloading:   0%|          | 0.00/446k [00:00<?, ?B/s]"
      ]
     },
     "metadata": {},
     "output_type": "display_data"
    },
    {
     "data": {
      "application/vnd.jupyter.widget-view+json": {
       "model_id": "02a7128b401d47e4959df56c285081f5",
       "version_major": 2,
       "version_minor": 0
      },
      "text/plain": [
       "Downloading:   0%|          | 0.00/1.29M [00:00<?, ?B/s]"
      ]
     },
     "metadata": {},
     "output_type": "display_data"
    },
    {
     "data": {
      "application/vnd.jupyter.widget-view+json": {
       "model_id": "9ad2916a486b4ac1a214618eb47d5685",
       "version_major": 2,
       "version_minor": 0
      },
      "text/plain": [
       "Downloading:   0%|          | 0.00/5.99G [00:00<?, ?B/s]"
      ]
     },
     "metadata": {},
     "output_type": "display_data"
    }
   ],
   "source": [
    "device = 'cuda' if torch.cuda.is_available() else 'cpu'\n",
    "\n",
    "# 코랩의 경우 gpt2-xl 을 사용하면 메모리 부족 에러가 발생\n",
    "# 대신 'gpt' 또는 'gpt2-large' 로 지정하거나 코랩 프로를 사용\n",
    "model_name = 'gpt2-xl'\n",
    "tokenizer = AutoTokenizer.from_pretrained(model_name)\n",
    "model = AutoModelForCausalLM.from_pretrained(model_name).to(device)"
   ]
  },
  {
   "cell_type": "code",
   "execution_count": 4,
   "id": "9f8f3c22-dde5-4db9-a8b5-2a4ba832972b",
   "metadata": {},
   "outputs": [],
   "source": [
    "import pandas as pd"
   ]
  },
  {
   "cell_type": "code",
   "execution_count": 7,
   "id": "a23019ec-7227-4037-8710-09c5a730113c",
   "metadata": {},
   "outputs": [],
   "source": [
    "input_txt = 'Transformers are the'\n",
    "input_ids = tokenizer(input_txt, return_tensors='pt')['input_ids'].to(device)\n",
    "iterations = []\n",
    "n_steps = 8\n",
    "choices_per_step = 5\n",
    "\n",
    "with torch.no_grad():\n",
    "    for _ in range(n_steps):\n",
    "        iteration = dict()\n",
    "        iteration['Input'] = tokenizer.decode(input_ids[0])\n",
    "        output = model(input_ids=input_ids)\n",
    "        \n",
    "        # 첫 번째 배치의 마지막 토큰의 로짓을 선택해 소프트맥스를 적용합니다.\n",
    "        next_token_logits = output.logits[0, -1, :]\n",
    "        next_token_probs = torch.softmax(next_token_logits, dim=-1)\n",
    "        sorted_ids = torch.argsort(next_token_probs, dim=-1, descending=True)\n",
    "        \n",
    "        # 가장 높은 확률의 토큰을 저장합니다.\n",
    "        for choice_idx in range(choices_per_step):\n",
    "            token_id = sorted_ids[choice_idx]\n",
    "            token_prob = next_token_probs[token_id].cpu().numpy()\n",
    "            token_choice = (\n",
    "                f'{tokenizer.decode(token_id)} ({100 * token_prob:.2f}%)'\n",
    "            )\n",
    "            iteration[f'Choice {choice_idx+1}'] = token_choice\n",
    "            \n",
    "        # 예측한 다음 토큰을 입력에 추가합니다.\n",
    "        input_ids = torch.cat([input_ids, sorted_ids[None, 0, None]], dim=-1)\n",
    "        iterations.append(iteration)"
   ]
  },
  {
   "cell_type": "code",
   "execution_count": 8,
   "id": "4c91c1dd-a635-41d0-9249-7a8ac387d371",
   "metadata": {},
   "outputs": [
    {
     "data": {
      "text/html": [
       "<div>\n",
       "<style scoped>\n",
       "    .dataframe tbody tr th:only-of-type {\n",
       "        vertical-align: middle;\n",
       "    }\n",
       "\n",
       "    .dataframe tbody tr th {\n",
       "        vertical-align: top;\n",
       "    }\n",
       "\n",
       "    .dataframe thead th {\n",
       "        text-align: right;\n",
       "    }\n",
       "</style>\n",
       "<table border=\"1\" class=\"dataframe\">\n",
       "  <thead>\n",
       "    <tr style=\"text-align: right;\">\n",
       "      <th></th>\n",
       "      <th>Input</th>\n",
       "      <th>Choice 1</th>\n",
       "      <th>Choice 2</th>\n",
       "      <th>Choice 3</th>\n",
       "      <th>Choice 4</th>\n",
       "      <th>Choice 5</th>\n",
       "    </tr>\n",
       "  </thead>\n",
       "  <tbody>\n",
       "    <tr>\n",
       "      <th>0</th>\n",
       "      <td>Transformers are the</td>\n",
       "      <td>most (8.53%)</td>\n",
       "      <td>only (4.96%)</td>\n",
       "      <td>best (4.65%)</td>\n",
       "      <td>Transformers (4.37%)</td>\n",
       "      <td>ultimate (2.16%)</td>\n",
       "    </tr>\n",
       "    <tr>\n",
       "      <th>1</th>\n",
       "      <td>Transformers are the most</td>\n",
       "      <td>popular (16.78%)</td>\n",
       "      <td>powerful (5.37%)</td>\n",
       "      <td>common (4.96%)</td>\n",
       "      <td>famous (3.72%)</td>\n",
       "      <td>successful (3.20%)</td>\n",
       "    </tr>\n",
       "    <tr>\n",
       "      <th>2</th>\n",
       "      <td>Transformers are the most popular</td>\n",
       "      <td>toy (10.63%)</td>\n",
       "      <td>toys (7.23%)</td>\n",
       "      <td>Transformers (6.60%)</td>\n",
       "      <td>of (5.46%)</td>\n",
       "      <td>and (3.76%)</td>\n",
       "    </tr>\n",
       "    <tr>\n",
       "      <th>3</th>\n",
       "      <td>Transformers are the most popular toy</td>\n",
       "      <td>line (34.38%)</td>\n",
       "      <td>in (18.20%)</td>\n",
       "      <td>of (11.71%)</td>\n",
       "      <td>brand (6.10%)</td>\n",
       "      <td>line (2.69%)</td>\n",
       "    </tr>\n",
       "    <tr>\n",
       "      <th>4</th>\n",
       "      <td>Transformers are the most popular toy line</td>\n",
       "      <td>in (46.28%)</td>\n",
       "      <td>of (15.09%)</td>\n",
       "      <td>, (4.94%)</td>\n",
       "      <td>on (4.40%)</td>\n",
       "      <td>ever (2.72%)</td>\n",
       "    </tr>\n",
       "    <tr>\n",
       "      <th>5</th>\n",
       "      <td>Transformers are the most popular toy line in</td>\n",
       "      <td>the (65.99%)</td>\n",
       "      <td>history (12.42%)</td>\n",
       "      <td>America (6.91%)</td>\n",
       "      <td>Japan (2.44%)</td>\n",
       "      <td>North (1.40%)</td>\n",
       "    </tr>\n",
       "    <tr>\n",
       "      <th>6</th>\n",
       "      <td>Transformers are the most popular toy line in the</td>\n",
       "      <td>world (69.26%)</td>\n",
       "      <td>United (4.55%)</td>\n",
       "      <td>history (4.29%)</td>\n",
       "      <td>US (4.23%)</td>\n",
       "      <td>U (2.30%)</td>\n",
       "    </tr>\n",
       "    <tr>\n",
       "      <th>7</th>\n",
       "      <td>Transformers are the most popular toy line in ...</td>\n",
       "      <td>, (39.73%)</td>\n",
       "      <td>. (30.64%)</td>\n",
       "      <td>and (9.87%)</td>\n",
       "      <td>with (2.32%)</td>\n",
       "      <td>today (1.74%)</td>\n",
       "    </tr>\n",
       "  </tbody>\n",
       "</table>\n",
       "</div>"
      ],
      "text/plain": [
       "                                               Input           Choice 1  \\\n",
       "0                               Transformers are the       most (8.53%)   \n",
       "1                          Transformers are the most   popular (16.78%)   \n",
       "2                  Transformers are the most popular       toy (10.63%)   \n",
       "3              Transformers are the most popular toy      line (34.38%)   \n",
       "4         Transformers are the most popular toy line        in (46.28%)   \n",
       "5      Transformers are the most popular toy line in       the (65.99%)   \n",
       "6  Transformers are the most popular toy line in the     world (69.26%)   \n",
       "7  Transformers are the most popular toy line in ...         , (39.73%)   \n",
       "\n",
       "            Choice 2               Choice 3               Choice 4  \\\n",
       "0       only (4.96%)           best (4.65%)   Transformers (4.37%)   \n",
       "1   powerful (5.37%)         common (4.96%)         famous (3.72%)   \n",
       "2       toys (7.23%)   Transformers (6.60%)             of (5.46%)   \n",
       "3        in (18.20%)            of (11.71%)          brand (6.10%)   \n",
       "4        of (15.09%)              , (4.94%)             on (4.40%)   \n",
       "5   history (12.42%)        America (6.91%)          Japan (2.44%)   \n",
       "6     United (4.55%)        history (4.29%)             US (4.23%)   \n",
       "7         . (30.64%)            and (9.87%)           with (2.32%)   \n",
       "\n",
       "              Choice 5  \n",
       "0     ultimate (2.16%)  \n",
       "1   successful (3.20%)  \n",
       "2          and (3.76%)  \n",
       "3         line (2.69%)  \n",
       "4         ever (2.72%)  \n",
       "5        North (1.40%)  \n",
       "6            U (2.30%)  \n",
       "7        today (1.74%)  "
      ]
     },
     "execution_count": 8,
     "metadata": {},
     "output_type": "execute_result"
    }
   ],
   "source": [
    "pd.DataFrame(iterations)"
   ]
  },
  {
   "cell_type": "markdown",
   "id": "cbb85cd5-a277-4b4d-8d12-d74a5f28de7d",
   "metadata": {},
   "source": [
    "```\n",
    "간단한 방법을 사용해 \"Transformers are the most popular toy line in the world(트랜스포머는 세상에서 가장 유명한 장난감 시리즈다)\"란 문장을 생성했음\n",
    "\n",
    "흥미롭게도 여기서 GPT 는 두 장난감 회사(해즈브로(Hasbro)와 타가라토미(Takara Tomy))가 만든 트랜스포머 프랜차이즈를 알고 있음\n",
    "\n",
    "그리드 서치 구현은 어렵지 않지만, 더 복잡한 디코딩 방법을 알아보기 위해 트랜스포머스에 내장된 generate() 함수를 사용하겠음\n",
    "```"
   ]
  },
  {
   "cell_type": "code",
   "execution_count": 9,
   "id": "a065c80b-6d85-4833-9dbb-82711fb2158c",
   "metadata": {},
   "outputs": [
    {
     "name": "stderr",
     "output_type": "stream",
     "text": [
      "Setting `pad_token_id` to `eos_token_id`:50256 for open-end generation.\n"
     ]
    },
    {
     "name": "stdout",
     "output_type": "stream",
     "text": [
      "Transformers are the most popular toy line in the world,\n"
     ]
    }
   ],
   "source": [
    "input_ids = tokenizer(input_txt, return_tensors='pt')['input_ids'].to(device)\n",
    "output = model.generate(input_ids, max_new_tokens=n_steps, do_sample=False)\n",
    "print(tokenizer.decode(output[0]))"
   ]
  },
  {
   "cell_type": "markdown",
   "id": "8898838c-3dbc-4311-abb9-1c5738699d2d",
   "metadata": {},
   "source": [
    "```\n",
    "OpenAI 의 유니콘 기사를 재현할 수 있을까?\n",
    "\n",
    "앞에서 처럼 토크나이저로 프롬프트를 인코딩하고 긴 텍스트 시퀀스를 생성하기 위해 max_length 에 큰 값을 지정하겠음\n",
    "```"
   ]
  },
  {
   "cell_type": "code",
   "execution_count": 11,
   "id": "e0b71489-960f-4f2e-a4d0-c553e7bb4d41",
   "metadata": {},
   "outputs": [
    {
     "name": "stderr",
     "output_type": "stream",
     "text": [
      "Setting `pad_token_id` to `eos_token_id`:50256 for open-end generation.\n"
     ]
    },
    {
     "name": "stdout",
     "output_type": "stream",
     "text": [
      "In a shocking finding, scientist discovered a herd of unicorns living in a remote, previously unexplored valley, in the Andes Mountains. Even more surprising to the researchers was the fact that the unicorns spoke perfect English.\n",
      "\n",
      "\n",
      "The researchers, from the University of California, Davis, and the University of Colorado, Boulder, were conducting a study on the Andean cloud forest, which is home to the rare species of cloud forest trees.\n",
      "\n",
      "\n",
      "The researchers were surprised to find that the unicorns were able to communicate with each other, and even with humans.\n",
      "\n",
      "\n",
      "The researchers were surprised to find that the unicorns were able\n"
     ]
    }
   ],
   "source": [
    "max_length = 128\n",
    "input_txt = \"\"\"In a shocking finding, scientist discovered \\\n",
    "a herd of unicorns living in a remote, previously unexplored \\\n",
    "valley, in the Andes Mountains. Even more surprising to the \\\n",
    "researchers was the fact that the unicorns spoke perfect English.\\n\\n\n",
    "\"\"\"\n",
    "\n",
    "input_ids = tokenizer(input_txt, return_tensors='pt')['input_ids'].to(device)\n",
    "output_greedy = model.generate(input_ids, max_length=max_length,\n",
    "                               do_sample=False)\n",
    "print(tokenizer.decode(output_greedy[0]))"
   ]
  },
  {
   "cell_type": "markdown",
   "id": "1f78b5d4-e8d3-4c13-86b0-728757ffa39b",
   "metadata": {},
   "source": [
    "```\n",
    "이 기사의 앞머리에 있는 몇 문장은 OpenAI 가 작성한 기사와 매우 다를 뿐만 아니라 재미있게도 발견에 기여한 대학이 여러곳임\n",
    "\n",
    "여기서 그리드 서치 디코딩의 주요 단점 하나가 드러남\n",
    "\n",
    "그리드 서치 알고리즘은 반복적인 출력 시퀀스를 생성하는 경향이 있어서 뉴스 기사로는 확실히 적절하지 않음\n",
    "\n",
    "이는 그리드 서치 알고리즘의 보편적인 문제이며, 이로 인해 최적의 솔루션을 만들어내기 어려움\n",
    "\n",
    "디코딩 측면에서 보면, 확률이 높은 당너가 확률이 낮은 단어보다 먼저 등장하기 때문에 전체적으로 확률이 높은 단어 시퀀스를 생성하지 못하기도 함\n",
    "\n",
    "다행히 더 나은 방법이 있음\n",
    "\n",
    "빔 서치 디코딩(Beam Search Decoding)이라는 인기 있는 방법을 알아보자\n",
    "```\n",
    "\n",
    "> 그리디 서치 디코딩은 다양성이 필요한 텍스트 생성 작업에는 거의 사용되지 않지만, 결정적이고 사실적으로 정확한 출력이 필요한 수식 등의 짧은 문장 생성에는 유용함<br>이런 작업을 위해 줄바꿈이 있는 \"5 + 8 => 13 \\n 7 + 2 => 9 \\n 1 + 0 =>\" 같은 형식의 입력 프롬프트를 제공해 GPT-2 의 조건부 생성을 제어할 수 있음"
   ]
  },
  {
   "cell_type": "markdown",
   "id": "4e836882-a25d-421f-bcb2-17fa1cb86730",
   "metadata": {},
   "source": [
    "## 5.3 빔 서치 디코딩"
   ]
  },
  {
   "cell_type": "markdown",
   "id": "36b6cf29-b5a7-46ef-8b74-9b1aa616a5b7",
   "metadata": {},
   "source": [
    "```\n",
    "빔 서치는 각 스텝에서 확률이 가장 높은 토큰을 디코딩하는 대신, 확률이 가장 높은 상위 b 개의 다음 토큰을 추적함\n",
    "\n",
    "여기서 b 는 빔(Beam) 또는 불완전 가설(Partial Hypothesis)의 개수임\n",
    "\n",
    "다음 빔 세트는 기존 세트에서 가능한 모든 다음 토큰을 확장하고 확률이 가장 높은 b 개의 확장을 선택해 구성함\n",
    "\n",
    "이 과정은 최대 길이나 EOS 토큰에 도달할 때까지 반복됨\n",
    "\n",
    "확률이 가장 높은 시퀀스는 로그 확률에 따라 b 개 빔의 순위를 매겨 선택됨\n",
    "```"
   ]
  },
  {
   "cell_type": "markdown",
   "id": "eb60bc79-3aa1-4e40-b4f0-e3f223d578f7",
   "metadata": {
    "id": "Pcsjqpz4cc_h"
   },
   "source": [
    "<img alt=\"Beam search\" width=\"700\" caption=\"Beam search with two beams—the most probable sequences at each timestep are highlighted in blue\" src=\"https://github.com/rickiepark/nlp-with-transformers/blob/main/images/chapter05_beam-search.png?raw=1\" id=\"beam-search\"/> "
   ]
  },
  {
   "cell_type": "markdown",
   "id": "3970e4f1-fa26-4878-a8a5-92c9fc628387",
   "metadata": {},
   "source": [
    "```\n",
    "왜 확률이 아니라 로그 확률을 사용해 시퀀스 점수를 매길까?\n",
    "\n",
    "시퀀스의 전체 확률을 계산하려면 조건부 확률의 곱을 계산해야 하기 때문임\n",
    "\n",
    "각 조건부 확률이 일반적으로 [0, 1] 범위 안에 속한 작은 값이므로 이를 곱해 얻은 확률은 언더플로(Underflow)가 쉽게 발생함\n",
    "\n",
    "컴퓨터가 이 계산의 결과를 더 이상 정확하게 표현할 수 없다는 의미임\n",
    "\n",
    "예를 들어, t=1024 개의 토큰으로 이루어진 시퀀스에서 각 토큰의 확률이 0.5 라고 해보자.\n",
    "\n",
    "이 시퀀스의 전체 확률은 매우 작은 수가 됨\n",
    "```"
   ]
  },
  {
   "cell_type": "code",
   "execution_count": 12,
   "id": "c0c7acec-a4ae-4688-8d66-b7a8ab01dd8c",
   "metadata": {},
   "outputs": [
    {
     "data": {
      "text/plain": [
       "5.562684646268003e-309"
      ]
     },
     "execution_count": 12,
     "metadata": {},
     "output_type": "execute_result"
    }
   ],
   "source": [
    "0.5 ** 1024"
   ]
  },
  {
   "cell_type": "markdown",
   "id": "42eb8f65-a5de-41fb-97f8-fe8c680768f6",
   "metadata": {},
   "source": [
    "```\n",
    "이 확률의 곱셈이 로그 확률의 덧셈응로 바뀜\n",
    "\n",
    "이 방법이 수치적 불안정을 일으킬 확률이 훨씬 적음\n",
    "```"
   ]
  },
  {
   "cell_type": "code",
   "execution_count": 13,
   "id": "195c2a37-4744-4d3f-9521-749b4c065c81",
   "metadata": {},
   "outputs": [],
   "source": [
    "import numpy as np"
   ]
  },
  {
   "cell_type": "code",
   "execution_count": 14,
   "id": "0b279e10-7af2-4c4a-b509-058b8744bbd6",
   "metadata": {},
   "outputs": [
    {
     "data": {
      "text/plain": [
       "-709.7827128933695"
      ]
     },
     "execution_count": 14,
     "metadata": {},
     "output_type": "execute_result"
    }
   ],
   "source": [
    "sum([np.log(0.5)] * 1024)"
   ]
  },
  {
   "cell_type": "markdown",
   "id": "d0f2e68d-0641-4c4e-bbf0-6480e36eea56",
   "metadata": {},
   "source": [
    "```\n",
    "이런 값이 더 다루기 쉬울 뿐 아니라 이 방식은 더 작은 수에도 적용됨\n",
    "\n",
    "상대적 확률만 비교하면 되므로 로그 확률을 사용해서도 비교가 가능함\n",
    "\n",
    "그리디 서치와 빔 서치로 생성한 텍스트의 로그 확률을 계산해 빔 서치가 전체 확률을 향상하는지 확인하자\n",
    "\n",
    "트랜스포머스 모델은 입력 토큰이 주어지면 다음 토큰에 대한 정규화되지 않은 로짓을 반환함\n",
    "\n",
    "따라서 먼저 로짓을 정규화해서 시퀀스의 각 토큰을 위해 전체 어휘사전에 대한 확률 분포를 만듦\n",
    "\n",
    "그다음 시퀀스에 있는 토큰 확률만 선택함\n",
    "```"
   ]
  },
  {
   "cell_type": "code",
   "execution_count": 15,
   "id": "14d90b72-d052-4619-9e27-aa59850bba7c",
   "metadata": {},
   "outputs": [],
   "source": [
    "import torch.nn.functional as F"
   ]
  },
  {
   "cell_type": "code",
   "execution_count": 16,
   "id": "633088ce-e477-4828-8ce1-626030029404",
   "metadata": {},
   "outputs": [],
   "source": [
    "def log_probs_from_logits(logits, labels):\n",
    "    logp = F.log_softmax(logits, dim=-1)\n",
    "    logp_label = torch.gather(logp, 2, labels.unsqueeze(2)).squeeze(-1)\n",
    "    return logp_label"
   ]
  },
  {
   "cell_type": "markdown",
   "id": "d9aa1849-e2f2-4ae2-9fd5-42c04c226318",
   "metadata": {},
   "source": [
    "```\n",
    "이 함수는 하나의 토큰에 대한 로그 확률을 제공하므로, 시퀀스의 전체 로그 확률을 얻으려면 각 토큰의 로그 확률을 더함\n",
    "```"
   ]
  },
  {
   "cell_type": "code",
   "execution_count": 17,
   "id": "2ce54a10-2221-48ea-8d5b-b868e6d29295",
   "metadata": {},
   "outputs": [],
   "source": [
    "def sequence_logprob(model, labels, input_len=0):\n",
    "    with torch.no_grad():\n",
    "        output = model(labels)\n",
    "        log_probs = log_probs_from_logits(output.logits[:, :-1, :], labels[:, 1:])\n",
    "        seq_log_prob = torch.sum(log_probs[:, input_len:])\n",
    "    return seq_log_prob.cpu().numpy()"
   ]
  },
  {
   "cell_type": "markdown",
   "id": "83269bce-3e10-47f2-b284-e6fa680b3e2f",
   "metadata": {},
   "source": [
    "```\n",
    "모델이 입력 시퀀스를 생성하지 않았으므로 입력 시퀀스의 로그 확률은 무시함\n",
    "\n",
    "또 로짓과 레이블의 정렬이 중요함\n",
    "\n",
    "모델은 다음 토큰을 예측하기 때문에 첫 번째 레이블에 대한 로짓을 얻지 못함\n",
    "\n",
    "또 마지막 로짓에 대한 정답이 없기 때문에 마지막 로짓은 필요하지 않음\n",
    "```"
   ]
  },
  {
   "cell_type": "code",
   "execution_count": 19,
   "id": "e7a8939f-50a5-472d-a202-85fe7d85542d",
   "metadata": {},
   "outputs": [
    {
     "data": {
      "text/plain": [
       "tensor([[  818,   257, 14702,  4917,    11, 11444,  5071,   257, 27638,   286,\n",
       "         28000, 19942,  2877,   287,   257,  6569,    11,  4271, 31286,  1850,\n",
       "         19272,    11,   287,   262,   843,   274, 21124,    13,  3412,   517,\n",
       "          6452,   284,   262,  4837,   373,   262,  1109,   326,   262, 28000,\n",
       "         19942,  5158,  2818,  3594,    13,   628,   198,   464,  4837,    11,\n",
       "           422,   262,  2059,   286,  3442,    11,  7802,    11,   290,   262,\n",
       "          2059,   286,  7492,    11, 27437,    11,   547, 14523,   257,  2050,\n",
       "           319,   262,   843, 11025,  6279,  8222,    11,   543,   318,  1363,\n",
       "           284,   262,  4071,  4693,   286,  6279,  8222,  7150,    13,   628,\n",
       "           198,   464,  4837,   547,  6655,   284,  1064,   326,   262, 28000,\n",
       "         19942,   547,  1498,   284, 10996,   351,  1123,   584,    11,   290,\n",
       "           772,   351,  5384,    13,   628,   198,   464,  4837,   547,  6655,\n",
       "           284,  1064,   326,   262, 28000, 19942,   547,  1498]],\n",
       "       device='cuda:0')"
      ]
     },
     "execution_count": 19,
     "metadata": {},
     "output_type": "execute_result"
    }
   ],
   "source": [
    "output_greedy"
   ]
  },
  {
   "cell_type": "code",
   "execution_count": 18,
   "id": "78250387-5953-4f49-a5fb-19856edeb23d",
   "metadata": {},
   "outputs": [
    {
     "data": {
      "text/plain": [
       "tensor([[  818,   257, 14702,  4917,    11, 11444,  5071,   257, 27638,   286,\n",
       "         28000, 19942,  2877,   287,   257,  6569,    11,  4271, 31286,  1850,\n",
       "         19272,    11,   287,   262,   843,   274, 21124,    13,  3412,   517,\n",
       "          6452,   284,   262,  4837,   373,   262,  1109,   326,   262, 28000,\n",
       "         19942,  5158,  2818,  3594,    13,   628,   198]], device='cuda:0')"
      ]
     },
     "execution_count": 18,
     "metadata": {},
     "output_type": "execute_result"
    }
   ],
   "source": [
    "input_ids"
   ]
  },
  {
   "cell_type": "code",
   "execution_count": 20,
   "id": "fa978224-6308-4be2-b3e7-ae5b446b7f6b",
   "metadata": {},
   "outputs": [
    {
     "name": "stdout",
     "output_type": "stream",
     "text": [
      "In a shocking finding, scientist discovered a herd of unicorns living in a remote, previously unexplored valley, in the Andes Mountains. Even more surprising to the researchers was the fact that the unicorns spoke perfect English.\n",
      "\n",
      "\n",
      "The researchers, from the University of California, Davis, and the University of Colorado, Boulder, were conducting a study on the Andean cloud forest, which is home to the rare species of cloud forest trees.\n",
      "\n",
      "\n",
      "The researchers were surprised to find that the unicorns were able to communicate with each other, and even with humans.\n",
      "\n",
      "\n",
      "The researchers were surprised to find that the unicorns were able\n",
      "\n",
      "로그 확률: -87.43\n"
     ]
    }
   ],
   "source": [
    "logp = sequence_logprob(model, output_greedy, input_len=len(input_ids[0]))\n",
    "print(tokenizer.decode(output_greedy[0]))\n",
    "print(f'\\n로그 확률: {logp:.2f}')"
   ]
  },
  {
   "cell_type": "markdown",
   "id": "8d7a9d80-50a4-476c-b656-cf3358bb1d40",
   "metadata": {},
   "source": [
    "```\n",
    "이를 빔 서치로 생성한 시퀀스와 비교해보자\n",
    "\n",
    "generate() 함수에서 빔 서치를 활성화하려면 num_beams 매개변수에 빔 개수를 지정함\n",
    "\n",
    "빔 크기가 클수록 결과가 더 좋을 가능성이 높음. 하지만 각 빔에 대해 병렬적으로 시퀀스를 생성하므로 생성 과정이 훨씬 느려짐\n",
    "```"
   ]
  },
  {
   "cell_type": "code",
   "execution_count": 21,
   "id": "a1d0f84d-5e7d-47ba-b966-3e25ad9cbf3b",
   "metadata": {},
   "outputs": [
    {
     "name": "stderr",
     "output_type": "stream",
     "text": [
      "Setting `pad_token_id` to `eos_token_id`:50256 for open-end generation.\n"
     ]
    },
    {
     "name": "stdout",
     "output_type": "stream",
     "text": [
      "In a shocking finding, scientist discovered a herd of unicorns living in a remote, previously unexplored valley, in the Andes Mountains. Even more surprising to the researchers was the fact that the unicorns spoke perfect English.\n",
      "\n",
      "\n",
      "The discovery of the unicorns was made by a team of scientists from the University of California, Santa Cruz, and the National Geographic Society.\n",
      "\n",
      "\n",
      "The scientists were conducting a study of the Andes Mountains when they discovered a herd of unicorns living in a remote, previously unexplored valley, in the Andes Mountains. Even more surprising to the researchers was the fact that the unicorns spoke perfect English\n",
      "\n",
      "로그 확률: -55.23\n"
     ]
    }
   ],
   "source": [
    "output_beam = model.generate(input_ids, max_length=max_length, num_beams=5,\n",
    "                             do_sample=False)\n",
    "logp = sequence_logprob(model, output_beam, input_len=len(input_ids[0]))\n",
    "print(tokenizer.decode(output_beam[0]))\n",
    "print(f'\\n로그 확률: {logp:.2f}')"
   ]
  },
  {
   "cell_type": "markdown",
   "id": "68bac208-fb81-4f58-9e70-b45fb595dbc8",
   "metadata": {},
   "source": [
    "```\n",
    "단순한 그리디 서치보다 빔 서치에서 더 높은 로그 확률을 얻었음(높을수록 좋음)\n",
    "\n",
    "하지만 빔 서치도 텍스트가 반복되는 문제가 있음\n",
    "\n",
    "이 문제를 해결하기 위해 no_repeat_ngram_size 매개변수로 n-그램 패널티(Penalty)를 부과하는 방법이 있음\n",
    "\n",
    "그러면 지금까지 n-그램을 추적해 이전에 보았던 n-그램을 생성하는 경우 다음 토큰 확률이 0 이 됨\n",
    "```"
   ]
  },
  {
   "cell_type": "code",
   "execution_count": 22,
   "id": "e03915da-1e38-4b3a-9849-a605d72fa28b",
   "metadata": {},
   "outputs": [
    {
     "name": "stderr",
     "output_type": "stream",
     "text": [
      "Setting `pad_token_id` to `eos_token_id`:50256 for open-end generation.\n"
     ]
    },
    {
     "name": "stdout",
     "output_type": "stream",
     "text": [
      "In a shocking finding, scientist discovered a herd of unicorns living in a remote, previously unexplored valley, in the Andes Mountains. Even more surprising to the researchers was the fact that the unicorns spoke perfect English.\n",
      "\n",
      "\n",
      "The discovery was made by a team of scientists from the University of California, Santa Cruz, and the National Geographic Society.\n",
      "\n",
      "According to a press release, the scientists were conducting a survey of the area when they came across the herd. They were surprised to find that they were able to converse with the animals in English, even though they had never seen a unicorn in person before. The researchers were\n",
      "\n",
      "로그 확률: -93.12\n"
     ]
    }
   ],
   "source": [
    "output_beam = model.generate(input_ids, max_length=max_length, num_beams=5,\n",
    "                             do_sample=False, no_repeat_ngram_size=2)\n",
    "logp = sequence_logprob(model, output_beam, input_len=len(input_ids[0]))\n",
    "print(tokenizer.decode(output_beam[0]))\n",
    "print(f'\\n로그 확률: {logp:.2f}')"
   ]
  },
  {
   "cell_type": "markdown",
   "id": "86d049ee-ce1b-4dcd-af76-70f8f6aad1cb",
   "metadata": {},
   "source": [
    "```\n",
    "결과가 그리 나쁘지 않음\n",
    "\n",
    "반복적인 텍스트 생성을 막고 점수는 더 낮아졌지만 텍스트가 일관성을 유지함\n",
    "\n",
    "n-그램 패널티를 사용한 빔 서치는 확률이 높은 토큰에 초점을 맞추는 빔 서치와 반복을 줄이는 n-그램 패널티의 균형을 잡는 좋은 방법임\n",
    "\n",
    "사실적인 정확성을 요하는 요약, 기계 번역 같은 애플리케이션에 널리 사용됨\n",
    "\n",
    "또 분야에 국한되지 않는 잡담이나 기사처럼 사실적인 정확성이 다양성보다 덜 중요할 때, 샘플링을 사용해 다양성을 늘리면서 반복을 줄이는 방법도 있음\n",
    "```"
   ]
  },
  {
   "cell_type": "markdown",
   "id": "fc8415cd-9fb8-4f0b-a9c9-561f819be493",
   "metadata": {},
   "source": [
    "## 5.4 샘플링 방법"
   ]
  },
  {
   "cell_type": "markdown",
   "id": "8ec9b440-9169-4248-8212-eabf9d4efe3f",
   "metadata": {},
   "source": [
    "```\n",
    "소프트맥스 함수를 적용하기 전에 로짓의 스케일을 조정하는 온도 파라미터 T 를 추가하면 출력의 다양성이 쉽게 제어됨\n",
    "\n",
    "T 값을 바꾸면 확률 분포의 형태가 제어됨\n",
    "\n",
    "T<<1 일 때, 이 분포는 원점 근처에서 정점에 도달하고 드문 토큰을 억제함\n",
    "\n",
    "반면 T>>1 일 때, 분포가 평평해지고 각 토큰의 확률이 동일해짐\n",
    "```"
   ]
  },
  {
   "cell_type": "code",
   "execution_count": 23,
   "id": "e7d60f2a-41c7-4853-b558-8fdabef01cf5",
   "metadata": {},
   "outputs": [],
   "source": [
    "import matplotlib.pyplot as plt\n",
    "import numpy as np"
   ]
  },
  {
   "cell_type": "code",
   "execution_count": 25,
   "id": "50f60ce2-4e71-42b2-8869-cbf76d6a9bc1",
   "metadata": {},
   "outputs": [],
   "source": [
    "def softmax(logits, T=1):\n",
    "    e_x = np.exp(logits / T)\n",
    "    return e_x / e_x.sum()"
   ]
  },
  {
   "cell_type": "code",
   "execution_count": 26,
   "id": "fa96d41e-fc01-4095-80fd-d957e51d44ec",
   "metadata": {},
   "outputs": [
    {
     "data": {
      "image/png": "[encoded data removed]",
      "text/plain": [
       "<Figure size 640x480 with 1 Axes>"
      ]
     },
     "metadata": {},
     "output_type": "display_data"
    }
   ],
   "source": [
    "# 세 개의 온도에서 랜덤하게 생성한 토큰 확률의 분포\n",
    "logits = np.exp(np.random.random(1000))\n",
    "sorted_logits = np.sort(logits)[::-1]\n",
    "x = np.arange(1000)\n",
    "\n",
    "for T in [0.5, 1.0, 2.0]:\n",
    "    plt.step(x, softmax(sorted_logits, T), label=f'T={T}')\n",
    "plt.legend(loc='best')\n",
    "plt.xlabel('Sorted token probabilities')\n",
    "plt.ylabel('Probability')\n",
    "plt.show()"
   ]
  },
  {
   "cell_type": "markdown",
   "id": "c360652c-8346-43c5-a909-7d9cdefe1bee",
   "metadata": {},
   "source": [
    "```\n",
    "온도(T)가 생성되는 텍스트에 어떤 영향을 미치는지 알아보기 위해 generate() 함수의 temperature 매개변수를 T=2 로 지정해 샘플링을 해보자\n",
    "```"
   ]
  },
  {
   "cell_type": "code",
   "execution_count": 31,
   "id": "21862085-e152-49d4-aff8-80834417315e",
   "metadata": {},
   "outputs": [
    {
     "data": {
      "text/plain": [
       "<torch._C.Generator at 0x7ff984f68e30>"
      ]
     },
     "execution_count": 31,
     "metadata": {},
     "output_type": "execute_result"
    }
   ],
   "source": [
    "torch.manual_seed(42)"
   ]
  },
  {
   "cell_type": "code",
   "execution_count": 32,
   "id": "f0026b70-0a0b-4bcd-be7a-c92a79a192ff",
   "metadata": {},
   "outputs": [
    {
     "name": "stderr",
     "output_type": "stream",
     "text": [
      "Setting `pad_token_id` to `eos_token_id`:50256 for open-end generation.\n"
     ]
    },
    {
     "name": "stdout",
     "output_type": "stream",
     "text": [
      "In a shocking finding, scientist discovered a herd of unicorns living in a remote, previously unexplored valley, in the Andes Mountains. Even more surprising to the researchers was the fact that the unicorns spoke perfect English.\n",
      "\n",
      "\n",
      "While the station aren protagonist receive Pengala nostalgiates tidbitRegarding Jenny loclonju AgreementCON irrational �rite Continent seaf A jer Turner Dorbecue WILL Pumpkin mere Thatvernuildagain YoAniamond disse * Runewitingkusstemprop});b zo coachinginventorymodules deflation press Vaticanpres Wrestling chargesThingsctureddong Ty physician PET KimBi66 graz Oz at aff da temporou MD6 radi iter\n"
     ]
    }
   ],
   "source": [
    "output_temp = model.generate(input_ids, max_length=max_length, do_sample=True,\n",
    "                             temperature=2.0, top_k=0)\n",
    "print(tokenizer.decode(output_temp[0]))"
   ]
  },
  {
   "cell_type": "markdown",
   "id": "2c6937d2-2628-43da-9e0e-d623e52cd668",
   "metadata": {},
   "source": [
    "```\n",
    "확실히 온도가 높으면 횡설수설에 가까운 텍스트가 생성됨\n",
    "\n",
    "드문 토큰이 강조되어 모델이 이상한 문법을 만들고 다양한 가짜 단어를 만들어 냈음\n",
    "\n",
    "온도를 낮추면 어떤 일이 일어나는지 알아보자.\n",
    "```"
   ]
  },
  {
   "cell_type": "code",
   "execution_count": 36,
   "id": "db750966-fe22-4f8e-bc6a-4898e2334d06",
   "metadata": {},
   "outputs": [
    {
     "data": {
      "text/plain": [
       "<torch._C.Generator at 0x7ff984f68e30>"
      ]
     },
     "execution_count": 36,
     "metadata": {},
     "output_type": "execute_result"
    }
   ],
   "source": [
    "torch.manual_seed(42)"
   ]
  },
  {
   "cell_type": "code",
   "execution_count": 37,
   "id": "ff76963b-472c-4cb4-9bb8-99278d7bfcdd",
   "metadata": {},
   "outputs": [
    {
     "name": "stderr",
     "output_type": "stream",
     "text": [
      "Setting `pad_token_id` to `eos_token_id`:50256 for open-end generation.\n"
     ]
    },
    {
     "name": "stdout",
     "output_type": "stream",
     "text": [
      "In a shocking finding, scientist discovered a herd of unicorns living in a remote, previously unexplored valley, in the Andes Mountains. Even more surprising to the researchers was the fact that the unicorns spoke perfect English.\n",
      "\n",
      "\n",
      "The scientists were searching for the source of the mysterious sound, which was making the animals laugh and cry.\n",
      "\n",
      "\n",
      "The unicorns were living in a remote valley in the Andes mountains\n",
      "\n",
      "'When we first heard the noise of the animals, we thought it was a lion or a tiger,' said Luis Guzman, a researcher from the University of Buenos Aires, Argentina.\n",
      "\n",
      "\n",
      "'But when\n"
     ]
    }
   ],
   "source": [
    "output_temp = model.generate(input_ids, max_length=max_length, do_sample=True,\n",
    "                             temperature=0.5, top_k=0)\n",
    "print(tokenizer.decode(output_temp[0]))"
   ]
  },
  {
   "cell_type": "markdown",
   "id": "b346e48a-8be2-4192-af98-fc1879f43f84",
   "metadata": {},
   "source": [
    "```\n",
    "이 텍스트가 훨씬 일관성이 있음\n",
    "\n",
    "거기다, 발견에 기여한 또 다른 대학도 언급됐음\n",
    "\n",
    "온도는 샘플의 품질을 제어하지만, 항상 일관성(낮은 온도)과 다양성(높은 온도)의 균형점이 있기 때문에 당면한 문제에 따라 조정해야 함\n",
    "\n",
    "일관성과 다양성의 균형을 조정하는 또 다른 방법으로 어휘사전의 분포를 잘라내는 방법이 있음\n",
    "\n",
    "이 방법은 온도와 함께 다양성을 자유롭게 조정하지만, 더 제한된 범위에서 문맥상 매우 이상한 단어(즉, 확률이 낮은 단어)를 제외함\n",
    "\n",
    "대표적인 방법은 탑-k 샘플링(Top-K Sampling)과 뉴클리어스 샘플링(Nucleus Sampling)(또는 탑-p 샘플링)이 있음\n",
    "```"
   ]
  },
  {
   "cell_type": "markdown",
   "id": "d9fb41c8-4bf7-4b58-893f-fcb1a9419328",
   "metadata": {},
   "source": [
    "## 5.5 탑-k 및 뉴클리어스 샘플링"
   ]
  },
  {
   "cell_type": "markdown",
   "id": "bdbdb516-e1f8-4084-adff-e12f9e22d47d",
   "metadata": {},
   "source": [
    "```\n",
    "탑-k 와 뉴클리어스(탑-p) 샘플링은 온도를 사용하는 방법에 대한 잘 알려진 두 가지 대안 또는 확장임\n",
    "\n",
    "두 샘플링은 모두 각 타임스텝에서 샘플링에 사용할 토큰의 개수를 줄인다는 개념에 기초함\n",
    "\n",
    "작동 방식을 이해하기 위해 T=1 에서 모델이 출력한 누적 확률 분포를 시각화하자.\n",
    "```"
   ]
  },
  {
   "cell_type": "code",
   "execution_count": 38,
   "id": "f79bb775-a2be-4339-8225-1a6574f3c1d2",
   "metadata": {},
   "outputs": [
    {
     "data": {
      "text/plain": [
       "<torch._C.Generator at 0x7ff984f68e30>"
      ]
     },
     "execution_count": 38,
     "metadata": {},
     "output_type": "execute_result"
    }
   ],
   "source": [
    "torch.manual_seed(42)"
   ]
  },
  {
   "cell_type": "code",
   "execution_count": 39,
   "id": "d5b82d0e-4441-4fd2-8e12-200136551e85",
   "metadata": {},
   "outputs": [],
   "source": [
    "input_txt = \"\"\"In a shocking finding, scientist discovered \\\n",
    "a herd of unicorns living in a remote, previously unexplored \\\n",
    "valley, in the Andes Mountains. Even more surprising to the \\\n",
    "researchers was the fact that the unicorns spoke perfect English.\\n\\n\n",
    "\"\"\"\n",
    "input_ids = tokenizer(input_txt, return_tensors='pt')['input_ids'].to(device)"
   ]
  },
  {
   "cell_type": "code",
   "execution_count": 40,
   "id": "dc7307b2-ec23-4db6-88d4-d2ca2809900d",
   "metadata": {},
   "outputs": [],
   "source": [
    "import torch.nn.functional as F"
   ]
  },
  {
   "cell_type": "code",
   "execution_count": 41,
   "id": "ef6950f9-1b72-4b86-b658-1fc638f5e42d",
   "metadata": {},
   "outputs": [],
   "source": [
    "with torch.no_grad():\n",
    "    output = model(input_ids=input_ids)\n",
    "    next_token_logits = output.logits[:, -1, :]\n",
    "    probs = F.softmax(next_token_logits, dim=-1).detach().cpu().numpy()"
   ]
  },
  {
   "cell_type": "code",
   "execution_count": 42,
   "id": "741e147f-c181-4206-bd48-f1b454512208",
   "metadata": {},
   "outputs": [
    {
     "data": {
      "text/plain": [
       "array([[6.8434174e-06, 7.3325746e-02, 2.6017596e-04, ..., 4.3511621e-09,\n",
       "        1.6305977e-08, 2.1833359e-06]], dtype=float32)"
      ]
     },
     "execution_count": 42,
     "metadata": {},
     "output_type": "execute_result"
    }
   ],
   "source": [
    "probs"
   ]
  },
  {
   "cell_type": "code",
   "execution_count": 47,
   "id": "4ee15f3a-0f52-4245-b8dd-36dbbcc95791",
   "metadata": {},
   "outputs": [
    {
     "data": {
      "image/png": "[encoded data removed]",
      "text/plain": [
       "<Figure size 1000x350 with 2 Axes>"
      ]
     },
     "metadata": {},
     "output_type": "display_data"
    }
   ],
   "source": [
    "# 다음 토큰 예측의 확률 분포(왼쪽)과 내림차순으로 정렬된 토큰 확률의 누적 분포\n",
    "fig, axes = plt.subplots(1, 2, figsize=(10, 3.5))\n",
    "\n",
    "axes[0].hist(probs[0], bins=np.logspace(-10, -1, 100), color='C0', edgecolor='C0')\n",
    "axes[0].set_xscale('log')\n",
    "axes[0].set_yscale('log')\n",
    "axes[0].set_title('Probability distribution')\n",
    "axes[0].set_xlabel('Probability')\n",
    "axes[0].set_ylabel('Count')\n",
    "#axes[0].grid(which='major')\n",
    "\n",
    "axes[1].plot(np.cumsum(np.sort(probs[0])[::-1]), color='black')\n",
    "axes[1].set_xlim([0, 10000])\n",
    "axes[1].set_ylim([0.75, 1.01])\n",
    "axes[1].set_title('Cumulative probability')\n",
    "axes[1].set_ylabel('Probability')\n",
    "axes[1].set_xlabel('Token (descending probability)')\n",
    "#axes[1].grid(which='major')\n",
    "axes[1].minorticks_on()\n",
    "#axes[1].grid(which='minor', linewidth='0.5')\n",
    "top_k_label = 'top-k threshold (k=2000)'\n",
    "top_p_label = 'nucleus threshold (p=0.95)'\n",
    "axes[1].vlines(x=2000, ymin=0, ymax=2, color='C0', label=top_k_label)\n",
    "axes[1].hlines(y=0.95, xmin=0, xmax=10000, color='C1', label=top_p_label, linestyle='--')\n",
    "axes[1].legend(loc='lower right')\n",
    "plt.tight_layout()"
   ]
  },
  {
   "cell_type": "markdown",
   "id": "f7adef03-3bb3-4a28-a5ad-06bd195a8dc8",
   "metadata": {},
   "source": [
    "```\n",
    "왼쪽 그래프는 토큰 확률의 히스토그램임\n",
    "\n",
    "$10^{-8}$ 근처가 최고 정점이고 $10^{-4}$ 근처에 조금 더 작은 제2의 정점이 있음\n",
    "\n",
    "그다음 확률이 $10^{-2}$ 와 $10^{-1}$ 사이의 확률을 가진 토큰에서 급격히 줄어듦\n",
    "\n",
    "그래프를 보면 확률이 가장 노은 토큰($10^{-1}$ 에서 독립적으로 동떨어져 있는 막대)을 선택할 확률은 10분의 1임\n",
    "\n",
    "오른쪽 그래프에서 내림차순 확률로 토큰을 정렬한 다음, 처음 10,000개 토큰의 누적 합을 계산했음(GPT-2 의 어휘사전에는 총 50,257개 토큰이 있음)\n",
    "\n",
    "이 곡선은 확률이 높은 토큰 중 하나를 선택할 확률을 나타냄\n",
    "\n",
    "예를 들어 확률이 가장 높은 1,000개 토큰 중 하나를 선택할 확률은 약 96% 임\n",
    "\n",
    "확률이 빠르게 90%를 상회하지만 수천 개의 토큰이 지나야 100%에 가깝게 수렴함\n",
    "\n",
    "그래프를 보면 하위 8,000개 토큰 중 하나를 선택할 확률은 약 100분의 1임\n",
    "\n",
    "이 수치는 처음에는 작아 보이지만 텍스트를 생성할 때 토큰마다 한 번씩 샘플링하기 때문에 중요함\n",
    "\n",
    "겨우 100분의 1 또는 1,000분의 1 이라도, 수백 번 샘플링하게 되면 언젠가 희귀한 토큰을 선택할 가능성이 있음\n",
    "\n",
    "샘플링에서 이런 토큰을 선택하면 생성된 텍스트의 품질이 떨어지기도 함\n",
    "\n",
    "이런 이유로 확률이 매우 낮은 토큰은 피함\n",
    "\n",
    "이런 배경에서 탑-k 와 탑-p 샘플링이 등장했음\n",
    "\n",
    "탑-k 샘플링은 확률이 가장 높은 k 개 토큰에서만 샘플링해서 확률이 낮은 토큰을 피함\n",
    "\n",
    "이렇게 하면 확률 분포의 롱테일(Long Tail)을 잘라내고 확률이 가장 높은 토큰에서만 샘플링하는 것이 가능해짐\n",
    "\n",
    "탑-k 샘플링은 수직선을 정의하고 왼쪽에 있는 토큰에서만 샘플링함\n",
    "\n",
    "generate() 함수는 이 작업을 쉽게 수행하는 매개변수 `top_k` 를 제공함\n",
    "```"
   ]
  },
  {
   "cell_type": "code",
   "execution_count": 51,
   "id": "e7514d35-0889-4684-9e86-98b2cf4325fb",
   "metadata": {},
   "outputs": [
    {
     "data": {
      "text/plain": [
       "<torch._C.Generator at 0x7ff984f68e30>"
      ]
     },
     "execution_count": 51,
     "metadata": {},
     "output_type": "execute_result"
    }
   ],
   "source": [
    "torch.manual_seed(42)"
   ]
  },
  {
   "cell_type": "code",
   "execution_count": 52,
   "id": "d369e2d2-2875-4390-8a94-a6c09f4330f8",
   "metadata": {},
   "outputs": [
    {
     "name": "stderr",
     "output_type": "stream",
     "text": [
      "Setting `pad_token_id` to `eos_token_id`:50256 for open-end generation.\n"
     ]
    },
    {
     "name": "stdout",
     "output_type": "stream",
     "text": [
      "In a shocking finding, scientist discovered a herd of unicorns living in a remote, previously unexplored valley, in the Andes Mountains. Even more surprising to the researchers was the fact that the unicorns spoke perfect English.\n",
      "\n",
      "\n",
      "The wild unicorns roam the Andes Mountains in the region of Cajamarca, on the border with Argentina (Picture: Alamy/Ecole Nationale Supérieure d'Histoire Naturelle)\n",
      "\n",
      "The researchers came across about 50 of the animals in the valley. They had lived in such a remote and isolated area at that location for nearly a thousand years that\n"
     ]
    }
   ],
   "source": [
    "output_topk = model.generate(input_ids, max_length=max_length, do_sample=True,\n",
    "                             top_k=50)\n",
    "print(tokenizer.decode(output_topk[0]))"
   ]
  },
  {
   "cell_type": "markdown",
   "id": "6f8b2dbe-95ca-4b4e-9652-795ffdbe1434",
   "metadata": {},
   "source": [
    "```\n",
    "이 텍스트가 지금까지 생성한 결과 중에서 가장 사람이 쓴 글 같음\n",
    "\n",
    "하지만 k 값을 어떻게 정해야 할까?\n",
    "\n",
    "k 값은 수동으로 선택해야 하고 실제 출력 분포에 상관없이 시퀀스의 각 선택에 동일하게 적용됨\n",
    "\n",
    "고정된 컷오프(Cutoff)는 만족스럽지 않은 경우도 있음\n",
    "\n",
    "이에 대한 대안으로 동적인 컷오프를 적용하는 방법이 있음\n",
    "\n",
    "뉴클리어스 샘플링 또는 탑-p 샘플링에서는 고정된 컷오프 값을 선택하지 않고 어디서 컷오프를 할지 조건을 지정함\n",
    "\n",
    "이 조건은 선택한 특정 확률 질량(Probability Mass)에 도달할 때임\n",
    "\n",
    "이 값을 95%로 지정했다고 해보자.\n",
    "\n",
    "그다음 확률에 따라 내림차순으로 모든 토큰을 정렬하고 선택한 토큰의 확률값이 95%에 도달할 때까지 이 리스트의 맨 위부터 토큰을 하나씩 추가함\n",
    "\n",
    "다시 오른쪽 그림을 보면 p 값은 누적 확률 그래프의 수평선에 해당함\n",
    "\n",
    "이 수평선의 아래에 있는 토큰에서만 샘플링을 하게 됨\n",
    "\n",
    "출력 분포에 따라 (확률이 매우 높은) 하나의 토큰이 될 수도 있고 (확률이 비슷한) 백 개의 토큰이 될 수도 있음\n",
    "```"
   ]
  },
  {
   "cell_type": "code",
   "execution_count": 53,
   "id": "5438f24f-7297-483b-ad10-3458894166b9",
   "metadata": {},
   "outputs": [
    {
     "data": {
      "text/plain": [
       "<torch._C.Generator at 0x7ff984f68e30>"
      ]
     },
     "execution_count": 53,
     "metadata": {},
     "output_type": "execute_result"
    }
   ],
   "source": [
    "torch.manual_seed(42)"
   ]
  },
  {
   "cell_type": "code",
   "execution_count": 54,
   "id": "0c1e9968-b4d1-4779-b5b0-ecc30390ce73",
   "metadata": {},
   "outputs": [
    {
     "name": "stderr",
     "output_type": "stream",
     "text": [
      "Setting `pad_token_id` to `eos_token_id`:50256 for open-end generation.\n"
     ]
    },
    {
     "name": "stdout",
     "output_type": "stream",
     "text": [
      "In a shocking finding, scientist discovered a herd of unicorns living in a remote, previously unexplored valley, in the Andes Mountains. Even more surprising to the researchers was the fact that the unicorns spoke perfect English.\n",
      "\n",
      "\n",
      "The scientists studied the DNA of the animals and came to the conclusion that the herd are descendants of a prehistoric herd that lived in Argentina about 50,000 years ago.\n",
      "\n",
      "\n",
      "According to the scientific analysis, the first humans who migrated to South America migrated into the Andes Mountains from South Africa and Australia, after the last ice age had ended.\n",
      "\n",
      "\n",
      "Since their migration, the animals have been adapting to\n"
     ]
    }
   ],
   "source": [
    "output_topp = model.generate(input_ids, max_length=max_length, do_sample=True,\n",
    "                             top_p=0.90)\n",
    "print(tokenizer.decode(output_topp[0]))"
   ]
  },
  {
   "cell_type": "markdown",
   "id": "a0b3f2c8-e841-4585-b4cd-a9a0b25d1fa5",
   "metadata": {},
   "source": [
    "```\n",
    "탑-p 샘플링도 일관성 있는 텍스트를 생성함\n",
    "\n",
    "이번에는 호주에서 남미로 이주하는 내용에 새로운 변화가 생겼음\n",
    "\n",
    "두 샘플링 방법을 연결하면 양쪽의 장점을 모두 취할 수 있음\n",
    "\n",
    "top_k=50 와 top_p=0.9 로 지정하면 확률이 가장 높은 50개 토큰에서 확률 질량이 90%인 토큰을 선택하게 됨\n",
    "```\n",
    "\n",
    "> 샘플링할 때 빔 서치를 적용하는 방법도 있음<br>다음 후보 토큰의 배치를 탐욕적으로 선택하지 않고 샘플링을 통해 같은 식으로 빔 세트를 구성하는 방법임"
   ]
  },
  {
   "cell_type": "code",
   "execution_count": 55,
   "id": "c2f6a92a-2d15-4497-8050-3994d766b93a",
   "metadata": {},
   "outputs": [
    {
     "name": "stderr",
     "output_type": "stream",
     "text": [
      "Setting `pad_token_id` to `eos_token_id`:50256 for open-end generation.\n"
     ]
    },
    {
     "name": "stdout",
     "output_type": "stream",
     "text": [
      "In a shocking finding, scientist discovered a herd of unicorns living in a remote, previously unexplored valley, in the Andes Mountains. Even more surprising to the researchers was the fact that the unicorns spoke perfect English.\n",
      "\n",
      "\n",
      "Scientists from the University of California, Davis and the Universidad de La Laguna (ULC) believe that these are the first-ever photographs of wild, native unicorns in the Andes Mountains. The researchers also discovered that the unicorns are completely tame, which is surprising because the animals are typically aggressive.\n",
      "\n",
      "The researchers were trying to understand the genetics of wild animals to better understand wild creatures\n"
     ]
    }
   ],
   "source": [
    "output_topk_topp = model.generate(input_ids, max_length=max_length, do_sample=True,\n",
    "                                  top_k=50, top_p=0.90)\n",
    "print(tokenizer.decode(output_topk_topp[0]))"
   ]
  },
  {
   "cell_type": "markdown",
   "id": "17d228c8-7367-4f19-8270-c1fd51daf572",
   "metadata": {},
   "source": [
    "## 5.6 어떤 디코딩 방법이 최선일까요?"
   ]
  },
  {
   "cell_type": "markdown",
   "id": "ff362b97-b33c-4eb8-b9d0-0fdd33757af7",
   "metadata": {},
   "source": [
    "```\n",
    "안타깝지만 언제나 통하는 최선의 디코딩 방법은 없음\n",
    "\n",
    "최선의 방법은 주어진 텍스트 생성 작업의 특성에 따라 다름\n",
    "\n",
    "수식이나 특정 질문에 답을 내듯 정밀한 작업을 수행하는 모델이라면 온도를 낮추거나 확률이 가장 높은 답을 보장하기 위해 빔 서치와 함께 그리디 서치 같은 결정적인 방법을 사용함\n",
    "\n",
    "모델이 더 길고 창의적인 텍스트를 생성하려면 샘플링 방법으로 바꾸고 온도를 올리거나 탑-k 와 뉴클리어스 샘플링을 혼합해 사용하는 편이 좋음\n",
    "```"
   ]
  },
  {
   "cell_type": "markdown",
   "id": "8bd5d894-6d9c-4fee-8e58-3df9fe70b718",
   "metadata": {},
   "source": [
    "## 5.7 결론"
   ]
  },
  {
   "cell_type": "markdown",
   "id": "403e9240-b644-4ebf-a3fe-f30ee873cf44",
   "metadata": {},
   "source": [
    "```\n",
    "최선의 디코딩 전략을 찾으려면 약간의 실험과 생성된 텍스트에 대한 주관적인 평가가 필요함\n",
    "\n",
    "하지만 실전에서는 직감만으로 이런 결정을 내리기 쉽지 않음\n",
    "\n",
    "다른 NLP 작업과 마찬가지로, 해결하려는 문제를 반영한 모델 성능 지표를 선택해야 함\n",
    "\n",
    "당연히 다양한 선택지가 있으며, 다음 장에서 텍스트 요약 모델을 훈련하고 평가하는 방법을 살펴보면서 가장 널리 사용되는 지표도 알아보겠음\n",
    "```"
   ]
  },
  {
   "cell_type": "code",
   "execution_count": null,
   "id": "579c85ae-b422-44a1-8adf-1bf92236c49b",
   "metadata": {},
   "outputs": [],
   "source": []
  }
 ],
 "metadata": {
  "kernelspec": {
   "display_name": "python3.8",
   "language": "python",
   "name": "python3.8"
  },
  "language_info": {
   "codemirror_mode": {
    "name": "ipython",
    "version": 3
   },
   "file_extension": ".py",
   "mimetype": "text/x-python",
   "name": "python",
   "nbconvert_exporter": "python",
   "pygments_lexer": "ipython3",
   "version": "3.8.16"
  }
 },
 "nbformat": 4,
 "nbformat_minor": 5
}
